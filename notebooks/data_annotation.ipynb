{
 "cells": [
  {
   "cell_type": "markdown",
   "metadata": {},
   "source": [
    "# Data Annotation"
   ]
  },
  {
   "cell_type": "markdown",
   "metadata": {},
   "source": [
    "- definitions & guidelines\n",
    "- Tool Augmentation, Syntactic Prompting\n",
    "- Negative sampling\n",
    "- Dynamic few-shot choice\n",
    "- Prompts from errors"
   ]
  },
  {
   "cell_type": "markdown",
   "metadata": {},
   "source": [
    "## Querying"
   ]
  },
  {
   "cell_type": "code",
   "execution_count": 5,
   "metadata": {},
   "outputs": [
    {
     "name": "stdout",
     "output_type": "stream",
     "text": [
      "Requirement already satisfied: openai in /Users/artempris/miniconda3/envs/mobility/lib/python3.10/site-packages (1.60.0)\n",
      "Requirement already satisfied: anyio<5,>=3.5.0 in /Users/artempris/miniconda3/envs/mobility/lib/python3.10/site-packages (from openai) (4.8.0)\n",
      "Requirement already satisfied: distro<2,>=1.7.0 in /Users/artempris/miniconda3/envs/mobility/lib/python3.10/site-packages (from openai) (1.9.0)\n",
      "Requirement already satisfied: httpx<1,>=0.23.0 in /Users/artempris/miniconda3/envs/mobility/lib/python3.10/site-packages (from openai) (0.28.1)\n",
      "Requirement already satisfied: jiter<1,>=0.4.0 in /Users/artempris/miniconda3/envs/mobility/lib/python3.10/site-packages (from openai) (0.8.2)\n",
      "Requirement already satisfied: pydantic<3,>=1.9.0 in /Users/artempris/miniconda3/envs/mobility/lib/python3.10/site-packages (from openai) (2.10.5)\n",
      "Requirement already satisfied: sniffio in /Users/artempris/miniconda3/envs/mobility/lib/python3.10/site-packages (from openai) (1.3.1)\n",
      "Requirement already satisfied: tqdm>4 in /Users/artempris/miniconda3/envs/mobility/lib/python3.10/site-packages (from openai) (4.67.1)\n",
      "Requirement already satisfied: typing-extensions<5,>=4.11 in /Users/artempris/miniconda3/envs/mobility/lib/python3.10/site-packages (from openai) (4.12.2)\n",
      "Requirement already satisfied: exceptiongroup>=1.0.2 in /Users/artempris/miniconda3/envs/mobility/lib/python3.10/site-packages (from anyio<5,>=3.5.0->openai) (1.2.2)\n",
      "Requirement already satisfied: idna>=2.8 in /Users/artempris/miniconda3/envs/mobility/lib/python3.10/site-packages (from anyio<5,>=3.5.0->openai) (3.10)\n",
      "Requirement already satisfied: certifi in /Users/artempris/miniconda3/envs/mobility/lib/python3.10/site-packages (from httpx<1,>=0.23.0->openai) (2024.8.30)\n",
      "Requirement already satisfied: httpcore==1.* in /Users/artempris/miniconda3/envs/mobility/lib/python3.10/site-packages (from httpx<1,>=0.23.0->openai) (1.0.7)\n",
      "Requirement already satisfied: h11<0.15,>=0.13 in /Users/artempris/miniconda3/envs/mobility/lib/python3.10/site-packages (from httpcore==1.*->httpx<1,>=0.23.0->openai) (0.14.0)\n",
      "Requirement already satisfied: annotated-types>=0.6.0 in /Users/artempris/miniconda3/envs/mobility/lib/python3.10/site-packages (from pydantic<3,>=1.9.0->openai) (0.7.0)\n",
      "Requirement already satisfied: pydantic-core==2.27.2 in /Users/artempris/miniconda3/envs/mobility/lib/python3.10/site-packages (from pydantic<3,>=1.9.0->openai) (2.27.2)\n"
     ]
    }
   ],
   "source": [
    "!pip install openai"
   ]
  },
  {
   "cell_type": "code",
   "execution_count": 6,
   "metadata": {},
   "outputs": [],
   "source": [
    "from openai import OpenAI\n",
    "\n",
    "client = OpenAI()"
   ]
  },
  {
   "cell_type": "code",
   "execution_count": 7,
   "metadata": {},
   "outputs": [],
   "source": [
    "import json\n",
    "\n",
    "def run_query(system_prompt, user_prompt, response_type=\"json_object\"):\n",
    "    completion = client.chat.completions.create(\n",
    "        model=\"gpt-4o\",\n",
    "        messages=[\n",
    "            {\"role\": \"system\", \"content\": system_prompt},\n",
    "            {\"role\": \"user\", \"content\": user_prompt}\n",
    "        ],\n",
    "        response_format={\"type\": response_type}\n",
    "    )\n",
    "    result = completion.choices[0].message.content\n",
    "    \n",
    "    if response_type == \"json_object\":\n",
    "        result = json.loads(result)    \n",
    "    \n",
    "    return result"
   ]
  },
  {
   "cell_type": "markdown",
   "metadata": {},
   "source": [
    "## Definitions & Guidelines"
   ]
  },
  {
   "cell_type": "code",
   "execution_count": 1,
   "metadata": {},
   "outputs": [
    {
     "data": {
      "text/plain": [
       "{'human-powered': 'Human powered transport, a form of sustainable transportation, is the transport of people and/or goods using human muscle-power, in the form of walking, running and swimming. Modern technology has allowed machines to enhance human power. Human-powered transport remains popular for reasons of cost-saving, leisure, physical exercise, and environmentalism; it is sometimes the only type available, especially in underdeveloped or inaccessible regions.Although humans are able to walk without infrastructure, the transport can be enhanced through the use of roads, especially when using the human power with vehicles, such as bicycles and inline skates. Human-powered vehicles have also been developed for difficult environments, such as snow and water, by watercraft rowing and skiing; even the air can be entered with human-powered aircraft.',\n",
       " 'animal-powered': 'Animal-powered transport is the use of working animals for the transport of people and/or goods. Humans may use some of the animals directly, use them as pack animals for carrying goods, or harness them, alone or in teams, to pull watercraft, sleds, or wheeled vehicles.Riding animals are animals that people use as mounts in order to perform tasks such as traversing across long distances or over rugged terrain, hunting on horseback or with some other riding animal, patrolling around rural and/or wilderness areas, rounding up and/or herding livestock or even for recreational enjoyment. They mainly include equines such as horses, donkeys, and mules; bovines such as cattle, water buffalo, and yak. In some places, elephants, llamas and camels are also used. Dromedary camels are in arid areas of Australia, North Africa and the Middle East; the less common Bactrian camel inhabits central and East Asia; both are used as working animals. On occasion, reindeer, though usually driven, may be ridden. Certain wild animals have been tamed and used for riding, usually for novelty purposes, including the zebra and the ostrich. Some mythical creatures are believed to act as divine mounts, such as garuda in Hinduism (See vahana for divine mounts in Hinduism) and the winged horse Pegasus in Greek mythology.',\n",
       " 'railways': \"Rail transport is a means of conveyance of passengers and goods by way of wheeled vehicles running on rail track, known as a railway or railroad. The rails are anchored perpendicular to railroad train consists of one or more connected vehicles that run on the rails. Propulsion is commonly provided by a locomotive, that hauls a series of unpowered cars, that can carry passengers or freight. The locomotive can be powered by steam, diesel or by electricity supplied by trackside systems. Alternatively, some or all the cars can be powered, known as a multiple unit. Also, a train can be powered by horses, cables, gravity, pneumatics and gas turbines. Railed vehicles move with much less friction than rubber tires on paved roads, making trains more energy efficient, though not as efficient as ships.Intercity trains are long-haul services connecting cities;[12] modern high-speed rail is capable of speeds up to 430 km/h (270 mph), but this requires a specially built track. Regional and commuter trains feed cities from suburbs and surrounding areas, while intra-urban transport is performed by high-capacity tramways and rapid transits, often making up the backbone of a city's public transport. Freight trains traditionally used box cars, requiring manual loading and unloading of the cargo. Since the 1960s, container trains have become the dominant solution for general freight, while large quantities of bulk are transported by dedicated trains.\",\n",
       " 'roadways': 'A road is an identifiable route of travel, usually surfaced with gravel, asphalt or concrete, and supporting land passage by foot or by a number of vehicles.The most common road vehicle in the developed world is the automobile, a wheeled passenger vehicle that carries its own motor. As of 2002, there were 591 million automobiles worldwide.[citation needed] Other users of roads include motorcycles, buses, trucks, bicycles and pedestrians, and special provisions are sometimes made for each of these. For example, bus lanes give priority for public transport, and cycle lanes provide special areas of road for bicycles to use.Automobiles offer high flexibility, but are deemed with high energy and area use, and the main source of noise and air pollution in cities; buses allow for more efficient travel at the cost of reduced flexibility.[13] Road transport by truck is often the initial and final stage of freight transport.',\n",
       " 'water_transport': 'Water transport is the process of transport that a watercraft, such as a bart, ship or sailboat, makes over a body of water, such as a sea, ocean, lake, canal, or river. If a boat or other vessel can successfully pass through a waterway it is known as a navigable waterway. The need for buoyancy unites watercraft, and makes the hull a dominant aspect of its construction, maintenance and appearance. When a boat is floating on the water the hull of the boat is pushing aside water where the hull now is, this is known as displacement.In the 1800s, the first steamboats were developed, using a steam engine to drive a paddle wheel or propeller to move the ship. The steam was produced using wood or coal. Now, most ships have an engine using a slightly refined type of petroleum called bunker fuel. Some ships, such as submarines, use nuclear power to produce the steam. Recreational or educational craft still use wind power, while some smaller craft use internal combustion engines to drive one or more propellers, or in the case of jet boats, an inboard water jet. In shallow draft areas, hovercraft are propelled by large pusher-prop fans.Although slow, modern sea transport is a highly effective method of transporting large quantities of non-perishable goods. Commercial vessels, nearly 35,000 in number, carried 7.4 billion tons of cargo in 2007.[14] Transport by water is significantly less costly than air transport for transcontinental shipping;[15] short sea shipping and ferries remain viable in coastal areas.[16][17]',\n",
       " 'air_transport': \"A fixed-wing aircraft, typically airplane, is a heavier-than-air flying vehicle, in which the special geometry of the wings generates lift and then lifts the whole vehicle. Fixed-wing aircraft range from small trainers and recreational aircraft to large airliners and military cargo aircraft. For short distances or in places without runways, helicopters can be operable.[2] (Other types of aircraft, like autogyros and airships, are not a significant portion of air transport.)Air transport is one of the fastest method of transport, Commercial jets reach speeds of up to 955 kilometres per hour (593 mph) and a considerably higher ground speed if there is a jet stream tailwind, while piston-powered general aviation aircraft may reach up to 555 kilometres per hour (345 mph) or more. This celerity comes with higher cost and energy use,[3] and aviation's impacts to the environment and particularly the global climate require consideration when comparing modes of transportation.[4] The Intergovernmental Panel on Climate Change (IPCC) estimates a commercial jet's flight to have some 2-4 times the effect on the climate than if the same CO2 emissions were made at ground level, because of different atmospheric chemistry and radiative forcing effects at the higher altitude.[5] U.S. airlines alone burned about 16.2 billion gallons of fuel during the twelve months between October 2013 and September 2014.[6] WHO estimates that globally as many as 500,000 people at a time are on planes.[3] The global trend has been for increasing numbers of people to travel by air, and individually to do so with increasing frequency and over longer distances, a dilemma that has the attention of climate scientists and other researchers,[7][8][9] along with the press.[10][11] The issue of impacts from frequent travel, particularly by air because of the long distances that are easily covered in one or a few days, is called hypermobility and has been a topic of research and governmental concern for many years.\"}"
      ]
     },
     "execution_count": 1,
     "metadata": {},
     "output_type": "execute_result"
    }
   ],
   "source": [
    "import json\n",
    "\n",
    "with open(\"../data/definitions.json\") as f:\n",
    "    definitions = json.load(f)\n",
    "    \n",
    "del definitions['mode of transport']\n",
    "definitions"
   ]
  },
  {
   "cell_type": "code",
   "execution_count": 2,
   "metadata": {},
   "outputs": [],
   "source": [
    "system_prompt = \"You are a helpful NER data annotator designed to output JSON.\"\n",
    "dg_user_prompt_template = \"\"\"\n",
    "Named Entity: \"{entity}\". Definition: {definition}. Examples: {examples}.\n",
    "\n",
    "Instructions: \n",
    "1. Provide a concise definition for the named entity \"{entity}\" in the context of NER.\n",
    "2. Provide guidelines by specifying what entities should not be labelled as \"{entity}\" and include potential pitfalls to avoid. Go beyond generic terms and delve into nuanced scenarios. Be explicit about potential ambiguities and provide guidance on distinguishing \"{entity}\" from similar entities.\n",
    "\n",
    "Output in JSON format: {{\"Definition\": \"\", \"Guidelines\": \"\"}}.\n",
    "\"\"\""
   ]
  },
  {
   "cell_type": "code",
   "execution_count": 8,
   "metadata": {},
   "outputs": [
    {
     "data": {
      "text/plain": [
       "{'human-powered': ['dance', 'clap', 'stomp'],\n",
       " 'animal-powered': ['horse', 'rodeo', 'cowboy'],\n",
       " 'railways': ['train', 'track', 'whistle'],\n",
       " 'roadways': ['car', 'highway', 'drive'],\n",
       " 'water_transport': ['sail', 'wave', 'cruise'],\n",
       " 'air_transport': ['fly', 'jet', 'sky']}"
      ]
     },
     "execution_count": 8,
     "metadata": {},
     "output_type": "execute_result"
    }
   ],
   "source": [
    "entity_vocab_user_prompt = f\"\"\"\n",
    "Here is an entity type set: [{str(list(definitions.keys()))}].\n",
    "\"\"\" + \\\n",
    "'\\n'.join([f\"The definition of {entity} is {definition};\" for entity, definition in definitions.items()]) + \\\n",
    "\"\"\"\n",
    "Please imagine a list of at least 3 diverse words for each entity type in the set in pop music domain.\n",
    "Output in JSON format: {\"Entity Type 1\": [\"word1\", ...], \"Entity Type 2\": [\"word1\", ...], ...}.\n",
    "\"\"\"\n",
    "\n",
    "entity_vocab = run_query(system_prompt, entity_vocab_user_prompt)\n",
    "entity_vocab"
   ]
  },
  {
   "cell_type": "code",
   "execution_count": 14,
   "metadata": {},
   "outputs": [
    {
     "data": {
      "text/plain": [
       "{'human-powered': [{'sentence': 'During the festival, everyone gathered to dance and clap along to the rhythmic beats.',\n",
       "   'entities': {'human-powered': ['dance', 'clap']}},\n",
       "  {'sentence': 'As the music grew louder, the crowd began to stomp their feet in unison.',\n",
       "   'entities': {'human-powered': ['stomp']}},\n",
       "  {'sentence': 'The children decided to create a game where they stomp, clap, and dance at every corner.',\n",
       "   'entities': {'human-powered': ['stomp', 'clap', 'dance']}}],\n",
       " 'animal-powered': [{'sentence': 'The cowboy expertly rode his horse during the exciting rodeo event.',\n",
       "   'entities': {'animal-powered': ['cowboy', 'horse', 'rodeo']}},\n",
       "  {'sentence': 'As the rodeo continued, the cowboy maintained perfect balance on the wild horse.',\n",
       "   'entities': {'animal-powered': ['rodeo', 'cowboy', 'horse']}},\n",
       "  {'sentence': \"To everyone's surprise, the new cowboy won the rodeo by taming the fastest horse.\",\n",
       "   'entities': {'animal-powered': ['cowboy', 'rodeo', 'horse']}}],\n",
       " 'railways': [{'sentence': 'The train sped along the track, its whistle echoing through the valley.',\n",
       "   'entities': {'railways': ['train', 'track', 'whistle']}},\n",
       "  {'sentence': 'As the train approached, its whistle blew loudly, signaling its journey down the track.',\n",
       "   'entities': {'railways': ['train', 'whistle', 'track']}},\n",
       "  {'sentence': 'Standing by the track, the spectators covered their ears as the train whistle blew.',\n",
       "   'entities': {'railways': ['track', 'train', 'whistle']}}],\n",
       " 'roadways': [{'sentence': \"Driving along the highway, he felt the car's engine roar to life.\",\n",
       "   'entities': {'roadways': ['drive', 'highway', 'car']}},\n",
       "  {'sentence': 'The car zipped past the highway exits, and the drive was incredibly smooth.',\n",
       "   'entities': {'roadways': ['car', 'highway', 'drive']}},\n",
       "  {'sentence': 'She loved to drive her car on the empty highway during the early morning hours.',\n",
       "   'entities': {'roadways': ['drive', 'car', 'highway']}}],\n",
       " 'water_transport': [{'sentence': 'The cruise ship began to sail away, sending waves gently lapping against the dock.',\n",
       "   'entities': {'water_transport': ['cruise', 'sail', 'wave']}},\n",
       "  {'sentence': 'As the sun set, they decided to sail along the coast, watching the waves crash beneath their boat.',\n",
       "   'entities': {'water_transport': ['sail', 'wave']}},\n",
       "  {'sentence': 'On the last day of the cruise, they enjoyed the view of the waves as they sailed home.',\n",
       "   'entities': {'water_transport': ['cruise', 'wave', 'sail']}}],\n",
       " 'air_transport': [{'sentence': 'The jet soared high through the sky, making everyone wish they could fly.',\n",
       "   'entities': {'air_transport': ['jet', 'sky', 'fly']}},\n",
       "  {'sentence': 'Looking out of the window, the passengers watched the clouds pass by as the jet continued to fly across the sky.',\n",
       "   'entities': {'air_transport': ['jet', 'fly', 'sky']}},\n",
       "  {'sentence': \"He admired the jet's ability to cut through the sky while longing for the next opportunity to fly.\",\n",
       "   'entities': {'air_transport': ['jet', 'sky', 'fly']}}]}"
      ]
     },
     "execution_count": 14,
     "metadata": {},
     "output_type": "execute_result"
    }
   ],
   "source": [
    "example_generation_user_prompt = f\"\"\"\n",
    "Here is an entity type set: [{str(list(entity_vocab.keys()))}].\n",
    "Construct a sentence that contains entities from the following words:\n",
    "\"\"\" + \\\n",
    "'\\n'.join([f\"{entity}: {', '.join(words)};\" for entity, words in entity_vocab.items()]) + \\\n",
    "\"\"\"\n",
    "Output the sentence along with the utilized entities. Please imagine at least 3 different sentences for every entity type.\n",
    "Output in JSON format: {\"Entity Type 1\": [{\"sentence\": \"\", \"entities\": {\"Entity Type 1\": [\"value\", ...]}}, ...], ...}.\n",
    "\"\"\"\n",
    "\n",
    "entity_examples = run_query(system_prompt, example_generation_user_prompt)\n",
    "entity_examples"
   ]
  },
  {
   "cell_type": "code",
   "execution_count": null,
   "metadata": {},
   "outputs": [],
   "source": []
  },
  {
   "cell_type": "code",
   "execution_count": 15,
   "metadata": {},
   "outputs": [],
   "source": [
    "entity_metadata = dict()\n",
    "\n",
    "for entity, examples in entity_examples.items():\n",
    "    definition = definitions[entity]\n",
    "    \n",
    "    items = entity_vocab[entity]\n",
    "    \n",
    "    dg_user_prompt = dg_user_prompt_template.format(entity=entity, definition=definition, examples=str(examples))\n",
    "    result = run_query(system_prompt, dg_user_prompt)\n",
    "    \n",
    "    entity_metadata[entity] = {'examples': examples,\n",
    "                               'items': items,\n",
    "                               'definition': result['Definition'],\n",
    "                               'guidelines': result['Guidelines']}"
   ]
  },
  {
   "cell_type": "code",
   "execution_count": 16,
   "metadata": {},
   "outputs": [
    {
     "data": {
      "text/plain": [
       "{'examples': [{'sentence': 'During the festival, everyone gathered to dance and clap along to the rhythmic beats.',\n",
       "   'entities': {'human-powered': ['dance', 'clap']}},\n",
       "  {'sentence': 'As the music grew louder, the crowd began to stomp their feet in unison.',\n",
       "   'entities': {'human-powered': ['stomp']}},\n",
       "  {'sentence': 'The children decided to create a game where they stomp, clap, and dance at every corner.',\n",
       "   'entities': {'human-powered': ['stomp', 'clap', 'dance']}}],\n",
       " 'items': ['dance', 'clap', 'stomp'],\n",
       " 'definition': \"In the context of NER, 'human-powered' refers to activities, modes of transportation, or processes that are operated or moved by human effort or muscle power without the use of external engines or motors. It includes activities such as walking, running, dancing, clapping, and using vehicles like bicycles, rowboats, or skis that are propelled by human force.\",\n",
       " 'guidelines': \"1. Only label actions or activities where human muscle power is the primary source of operation. This includes actions like walking, running, cycling, or activities like stomping, clapping, and dancing. 2. Do not label activities where external engines or motors contribute the primary power, such as driving a car or riding a motorcycle. 3. Avoid labeling intellectual or cognitive activities such as thinking or writing as 'human-powered,' even though they are human-driven. 4. Be cautious of activities where human power is supplemented by technology; ensure the human is the primary source of power, such as pedaling an electric-assist bicycle without motor assistance. 5. Activities involving minimal human physical effort like pressing a button or using an escalator should not be considered 'human-powered.' 6. Distinguish between human-powered activities and tasks that are facilitated by machinery or animals; for instance, a horse-drawn carriage is not human-powered as the power source is the horse. 7. Clearly differentiate between recreational physical activities like dancing or sports and professional or cognitive tasks to ensure only physical activities led by human power are labeled appropriately.\"}"
      ]
     },
     "execution_count": 16,
     "metadata": {},
     "output_type": "execute_result"
    }
   ],
   "source": [
    "entity_metadata['human-powered']"
   ]
  },
  {
   "cell_type": "code",
   "execution_count": 17,
   "metadata": {},
   "outputs": [],
   "source": [
    "with open(\"../data/entity_metadata.json\", \"w\") as f:\n",
    "    json.dump(entity_metadata, f, indent=4)"
   ]
  },
  {
   "cell_type": "markdown",
   "metadata": {},
   "source": [
    "## Prompt optimizations"
   ]
  },
  {
   "cell_type": "code",
   "execution_count": 70,
   "metadata": {},
   "outputs": [
    {
     "data": {
      "text/plain": [
       "{'human-powered': 'Human powered transport, a form of sustainable transportation, is the transport of people and/or goods using human muscle-power, in the form of walking, running and swimming. Modern technology has allowed machines to enhance human power. Human-powered transport remains popular for reasons of cost-saving, leisure, physical exercise, and environmentalism; it is sometimes the only type available, especially in underdeveloped or inaccessible regions.Although humans are able to walk without infrastructure, the transport can be enhanced through the use of roads, especially when using the human power with vehicles, such as bicycles and inline skates. Human-powered vehicles have also been developed for difficult environments, such as snow and water, by watercraft rowing and skiing; even the air can be entered with human-powered aircraft.',\n",
       " 'animal-powered': 'Animal-powered transport is the use of working animals for the transport of people and/or goods. Humans may use some of the animals directly, use them as pack animals for carrying goods, or harness them, alone or in teams, to pull watercraft, sleds, or wheeled vehicles.Riding animals are animals that people use as mounts in order to perform tasks such as traversing across long distances or over rugged terrain, hunting on horseback or with some other riding animal, patrolling around rural and/or wilderness areas, rounding up and/or herding livestock or even for recreational enjoyment. They mainly include equines such as horses, donkeys, and mules; bovines such as cattle, water buffalo, and yak. In some places, elephants, llamas and camels are also used. Dromedary camels are in arid areas of Australia, North Africa and the Middle East; the less common Bactrian camel inhabits central and East Asia; both are used as working animals. On occasion, reindeer, though usually driven, may be ridden. Certain wild animals have been tamed and used for riding, usually for novelty purposes, including the zebra and the ostrich. Some mythical creatures are believed to act as divine mounts, such as garuda in Hinduism (See vahana for divine mounts in Hinduism) and the winged horse Pegasus in Greek mythology.',\n",
       " 'railways': \"Rail transport is a means of conveyance of passengers and goods by way of wheeled vehicles running on rail track, known as a railway or railroad. The rails are anchored perpendicular to railroad train consists of one or more connected vehicles that run on the rails. Propulsion is commonly provided by a locomotive, that hauls a series of unpowered cars, that can carry passengers or freight. The locomotive can be powered by steam, diesel or by electricity supplied by trackside systems. Alternatively, some or all the cars can be powered, known as a multiple unit. Also, a train can be powered by horses, cables, gravity, pneumatics and gas turbines. Railed vehicles move with much less friction than rubber tires on paved roads, making trains more energy efficient, though not as efficient as ships.Intercity trains are long-haul services connecting cities;[12] modern high-speed rail is capable of speeds up to 430 km/h (270 mph), but this requires a specially built track. Regional and commuter trains feed cities from suburbs and surrounding areas, while intra-urban transport is performed by high-capacity tramways and rapid transits, often making up the backbone of a city's public transport. Freight trains traditionally used box cars, requiring manual loading and unloading of the cargo. Since the 1960s, container trains have become the dominant solution for general freight, while large quantities of bulk are transported by dedicated trains.\",\n",
       " 'roadways': 'A road is an identifiable route of travel, usually surfaced with gravel, asphalt or concrete, and supporting land passage by foot or by a number of vehicles.The most common road vehicle in the developed world is the automobile, a wheeled passenger vehicle that carries its own motor. As of 2002, there were 591 million automobiles worldwide.[citation needed] Other users of roads include motorcycles, buses, trucks, bicycles and pedestrians, and special provisions are sometimes made for each of these. For example, bus lanes give priority for public transport, and cycle lanes provide special areas of road for bicycles to use.Automobiles offer high flexibility, but are deemed with high energy and area use, and the main source of noise and air pollution in cities; buses allow for more efficient travel at the cost of reduced flexibility.[13] Road transport by truck is often the initial and final stage of freight transport.',\n",
       " 'water_transport': 'Water transport is the process of transport that a watercraft, such as a bart, ship or sailboat, makes over a body of water, such as a sea, ocean, lake, canal, or river. If a boat or other vessel can successfully pass through a waterway it is known as a navigable waterway. The need for buoyancy unites watercraft, and makes the hull a dominant aspect of its construction, maintenance and appearance. When a boat is floating on the water the hull of the boat is pushing aside water where the hull now is, this is known as displacement.In the 1800s, the first steamboats were developed, using a steam engine to drive a paddle wheel or propeller to move the ship. The steam was produced using wood or coal. Now, most ships have an engine using a slightly refined type of petroleum called bunker fuel. Some ships, such as submarines, use nuclear power to produce the steam. Recreational or educational craft still use wind power, while some smaller craft use internal combustion engines to drive one or more propellers, or in the case of jet boats, an inboard water jet. In shallow draft areas, hovercraft are propelled by large pusher-prop fans.Although slow, modern sea transport is a highly effective method of transporting large quantities of non-perishable goods. Commercial vessels, nearly 35,000 in number, carried 7.4 billion tons of cargo in 2007.[14] Transport by water is significantly less costly than air transport for transcontinental shipping;[15] short sea shipping and ferries remain viable in coastal areas.[16][17]',\n",
       " 'air_transport': \"A fixed-wing aircraft, typically airplane, is a heavier-than-air flying vehicle, in which the special geometry of the wings generates lift and then lifts the whole vehicle. Fixed-wing aircraft range from small trainers and recreational aircraft to large airliners and military cargo aircraft. For short distances or in places without runways, helicopters can be operable.[2] (Other types of aircraft, like autogyros and airships, are not a significant portion of air transport.)Air transport is one of the fastest method of transport, Commercial jets reach speeds of up to 955 kilometres per hour (593 mph) and a considerably higher ground speed if there is a jet stream tailwind, while piston-powered general aviation aircraft may reach up to 555 kilometres per hour (345 mph) or more. This celerity comes with higher cost and energy use,[3] and aviation's impacts to the environment and particularly the global climate require consideration when comparing modes of transportation.[4] The Intergovernmental Panel on Climate Change (IPCC) estimates a commercial jet's flight to have some 2-4 times the effect on the climate than if the same CO2 emissions were made at ground level, because of different atmospheric chemistry and radiative forcing effects at the higher altitude.[5] U.S. airlines alone burned about 16.2 billion gallons of fuel during the twelve months between October 2013 and September 2014.[6] WHO estimates that globally as many as 500,000 people at a time are on planes.[3] The global trend has been for increasing numbers of people to travel by air, and individually to do so with increasing frequency and over longer distances, a dilemma that has the attention of climate scientists and other researchers,[7][8][9] along with the press.[10][11] The issue of impacts from frequent travel, particularly by air because of the long distances that are easily covered in one or a few days, is called hypermobility and has been a topic of research and governmental concern for many years.\"}"
      ]
     },
     "execution_count": 70,
     "metadata": {},
     "output_type": "execute_result"
    }
   ],
   "source": [
    "import json\n",
    "\n",
    "with open(\"../data/definitions.json\") as f:\n",
    "    definitions = json.load(f)\n",
    "    \n",
    "del definitions['mode of transport']\n",
    "definitions"
   ]
  },
  {
   "cell_type": "code",
   "execution_count": 65,
   "metadata": {},
   "outputs": [
    {
     "name": "stdout",
     "output_type": "stream",
     "text": [
      "Collecting stanza\n",
      "  Downloading stanza-1.10.1-py3-none-any.whl.metadata (13 kB)\n",
      "Collecting emoji (from stanza)\n",
      "  Downloading emoji-2.14.1-py3-none-any.whl.metadata (5.7 kB)\n",
      "Requirement already satisfied: numpy in /Users/artempris/miniconda3/envs/mobility/lib/python3.10/site-packages (from stanza) (2.2.1)\n",
      "Collecting protobuf>=3.15.0 (from stanza)\n",
      "  Downloading protobuf-5.29.3-cp38-abi3-macosx_10_9_universal2.whl.metadata (592 bytes)\n",
      "Requirement already satisfied: requests in /Users/artempris/miniconda3/envs/mobility/lib/python3.10/site-packages (from stanza) (2.32.3)\n",
      "Collecting networkx (from stanza)\n",
      "  Using cached networkx-3.4.2-py3-none-any.whl.metadata (6.3 kB)\n",
      "Requirement already satisfied: tomli in /Users/artempris/miniconda3/envs/mobility/lib/python3.10/site-packages (from stanza) (2.2.1)\n",
      "Collecting torch>=1.3.0 (from stanza)\n",
      "  Using cached torch-2.5.1-cp310-none-macosx_11_0_arm64.whl.metadata (28 kB)\n",
      "Requirement already satisfied: tqdm in /Users/artempris/miniconda3/envs/mobility/lib/python3.10/site-packages (from stanza) (4.67.1)\n",
      "Collecting filelock (from torch>=1.3.0->stanza)\n",
      "  Downloading filelock-3.17.0-py3-none-any.whl.metadata (2.9 kB)\n",
      "Requirement already satisfied: typing-extensions>=4.8.0 in /Users/artempris/miniconda3/envs/mobility/lib/python3.10/site-packages (from torch>=1.3.0->stanza) (4.12.2)\n",
      "Requirement already satisfied: jinja2 in /Users/artempris/miniconda3/envs/mobility/lib/python3.10/site-packages (from torch>=1.3.0->stanza) (3.1.5)\n",
      "Collecting fsspec (from torch>=1.3.0->stanza)\n",
      "  Downloading fsspec-2024.12.0-py3-none-any.whl.metadata (11 kB)\n",
      "Collecting sympy==1.13.1 (from torch>=1.3.0->stanza)\n",
      "  Using cached sympy-1.13.1-py3-none-any.whl.metadata (12 kB)\n",
      "Collecting mpmath<1.4,>=1.1.0 (from sympy==1.13.1->torch>=1.3.0->stanza)\n",
      "  Using cached mpmath-1.3.0-py3-none-any.whl.metadata (8.6 kB)\n",
      "Requirement already satisfied: charset-normalizer<4,>=2 in /Users/artempris/miniconda3/envs/mobility/lib/python3.10/site-packages (from requests->stanza) (3.4.0)\n",
      "Requirement already satisfied: idna<4,>=2.5 in /Users/artempris/miniconda3/envs/mobility/lib/python3.10/site-packages (from requests->stanza) (3.10)\n",
      "Requirement already satisfied: urllib3<3,>=1.21.1 in /Users/artempris/miniconda3/envs/mobility/lib/python3.10/site-packages (from requests->stanza) (2.2.3)\n",
      "Requirement already satisfied: certifi>=2017.4.17 in /Users/artempris/miniconda3/envs/mobility/lib/python3.10/site-packages (from requests->stanza) (2024.8.30)\n",
      "Requirement already satisfied: MarkupSafe>=2.0 in /Users/artempris/miniconda3/envs/mobility/lib/python3.10/site-packages (from jinja2->torch>=1.3.0->stanza) (3.0.2)\n",
      "Downloading stanza-1.10.1-py3-none-any.whl (1.1 MB)\n",
      "\u001b[2K   \u001b[90m━━━━━━━━━━━━━━━━━━━━━━━━━━━━━━━━━━━━━━━━\u001b[0m \u001b[32m1.1/1.1 MB\u001b[0m \u001b[31m4.8 MB/s\u001b[0m eta \u001b[36m0:00:00\u001b[0ma \u001b[36m0:00:01\u001b[0m\n",
      "\u001b[?25hDownloading protobuf-5.29.3-cp38-abi3-macosx_10_9_universal2.whl (417 kB)\n",
      "Using cached torch-2.5.1-cp310-none-macosx_11_0_arm64.whl (63.9 MB)\n",
      "Using cached sympy-1.13.1-py3-none-any.whl (6.2 MB)\n",
      "Downloading emoji-2.14.1-py3-none-any.whl (590 kB)\n",
      "\u001b[2K   \u001b[90m━━━━━━━━━━━━━━━━━━━━━━━━━━━━━━━━━━━━━━━━\u001b[0m \u001b[32m590.6/590.6 kB\u001b[0m \u001b[31m5.2 MB/s\u001b[0m eta \u001b[36m0:00:00\u001b[0m\n",
      "\u001b[?25hUsing cached networkx-3.4.2-py3-none-any.whl (1.7 MB)\n",
      "Downloading filelock-3.17.0-py3-none-any.whl (16 kB)\n",
      "Downloading fsspec-2024.12.0-py3-none-any.whl (183 kB)\n",
      "Using cached mpmath-1.3.0-py3-none-any.whl (536 kB)\n",
      "Installing collected packages: mpmath, sympy, protobuf, networkx, fsspec, filelock, emoji, torch, stanza\n",
      "Successfully installed emoji-2.14.1 filelock-3.17.0 fsspec-2024.12.0 mpmath-1.3.0 networkx-3.4.2 protobuf-5.29.3 stanza-1.10.1 sympy-1.13.1 torch-2.5.1\n"
     ]
    }
   ],
   "source": [
    "!pip install stanza"
   ]
  },
  {
   "cell_type": "code",
   "execution_count": 66,
   "metadata": {},
   "outputs": [
    {
     "data": {
      "application/vnd.jupyter.widget-view+json": {
       "model_id": "6b8d49be91f64d29b6cb0f1fdfde8ff2",
       "version_major": 2,
       "version_minor": 0
      },
      "text/plain": [
       "Downloading https://raw.githubusercontent.com/stanfordnlp/stanza-resources/main/resources_1.10.0.json:   0%|  …"
      ]
     },
     "metadata": {},
     "output_type": "display_data"
    },
    {
     "name": "stderr",
     "output_type": "stream",
     "text": [
      "2025-01-23 19:52:54 INFO: Downloaded file to /Users/artempris/stanza_resources/resources.json\n",
      "2025-01-23 19:52:54 INFO: Downloading default packages for language: en (English) ...\n"
     ]
    },
    {
     "data": {
      "application/vnd.jupyter.widget-view+json": {
       "model_id": "ac7b452fbbaa4ad18af677bd116cf97f",
       "version_major": 2,
       "version_minor": 0
      },
      "text/plain": [
       "Downloading https://huggingface.co/stanfordnlp/stanza-en/resolve/v1.10.0/models/default.zip:   0%|          | …"
      ]
     },
     "metadata": {},
     "output_type": "display_data"
    },
    {
     "name": "stderr",
     "output_type": "stream",
     "text": [
      "2025-01-23 19:54:18 INFO: Downloaded file to /Users/artempris/stanza_resources/en/default.zip\n",
      "2025-01-23 19:54:20 INFO: Finished downloading models and saved to /Users/artempris/stanza_resources\n",
      "2025-01-23 19:54:20 INFO: Checking for updates to resources.json in case models have been updated.  Note: this behavior can be turned off with download_method=None or download_method=DownloadMethod.REUSE_RESOURCES\n"
     ]
    },
    {
     "data": {
      "application/vnd.jupyter.widget-view+json": {
       "model_id": "4a51c9319282496ca831a205f88b431e",
       "version_major": 2,
       "version_minor": 0
      },
      "text/plain": [
       "Downloading https://raw.githubusercontent.com/stanfordnlp/stanza-resources/main/resources_1.10.0.json:   0%|  …"
      ]
     },
     "metadata": {},
     "output_type": "display_data"
    },
    {
     "name": "stderr",
     "output_type": "stream",
     "text": [
      "2025-01-23 19:54:20 INFO: Downloaded file to /Users/artempris/stanza_resources/resources.json\n",
      "2025-01-23 19:54:20 WARNING: Language en package default expects mwt, which has been added\n",
      "2025-01-23 19:54:21 INFO: Loading these models for language: en (English):\n",
      "===============================\n",
      "| Processor | Package         |\n",
      "-------------------------------\n",
      "| tokenize  | combined        |\n",
      "| mwt       | combined        |\n",
      "| pos       | combined_charlm |\n",
      "===============================\n",
      "\n",
      "2025-01-23 19:54:21 INFO: Using device: cpu\n",
      "2025-01-23 19:54:21 INFO: Loading: tokenize\n",
      "2025-01-23 19:54:21 INFO: Loading: mwt\n",
      "2025-01-23 19:54:21 INFO: Loading: pos\n",
      "2025-01-23 19:54:22 INFO: Done loading processors!\n"
     ]
    },
    {
     "name": "stdout",
     "output_type": "stream",
     "text": [
      "word: As\tPOS: SCONJ\n",
      "word: we\tPOS: PRON\n",
      "word: planned\tPOS: VERB\n",
      "word: to\tPOS: PART\n",
      "word: jet\tPOS: VERB\n",
      "word: set\tPOS: NOUN\n",
      "word: ,\tPOS: PUNCT\n",
      "word: the\tPOS: DET\n",
      "word: thought\tPOS: NOUN\n",
      "word: of\tPOS: SCONJ\n",
      "word: following\tPOS: VERB\n",
      "word: the\tPOS: DET\n",
      "word: flight\tPOS: NOUN\n",
      "word: path\tPOS: NOUN\n",
      "word: excited\tPOS: VERB\n",
      "word: us\tPOS: PRON\n",
      "word: .\tPOS: PUNCT\n"
     ]
    }
   ],
   "source": [
    "import stanza\n",
    "\n",
    "stanza.download('en')\n",
    "nlp = stanza.Pipeline('en', processors='tokenize,pos')"
   ]
  },
  {
   "cell_type": "code",
   "execution_count": 68,
   "metadata": {},
   "outputs": [],
   "source": [
    "def get_tool_augmentation(sentence, engine=nlp):\n",
    "    doc = engine(sentence)\n",
    "    pos_tags = [f\"{word.text}/{word.pos}\" for sent in doc.sentences for word in sent.words]\n",
    "    pos_text = ' '.join(pos_tags)\n",
    "    \n",
    "    return pos_text"
   ]
  },
  {
   "cell_type": "code",
   "execution_count": 69,
   "metadata": {},
   "outputs": [
    {
     "data": {
      "text/plain": [
       "'As/SCONJ we/PRON planned/VERB to/PART jet/VERB set/NOUN ,/PUNCT the/DET thought/NOUN of/SCONJ following/VERB the/DET flight/NOUN path/NOUN excited/VERB us/PRON ./PUNCT'"
      ]
     },
     "execution_count": 69,
     "metadata": {},
     "output_type": "execute_result"
    }
   ],
   "source": [
    "text = \"As we planned to jet set, the thought of following the flight path excited us.\"\n",
    "pos_text = get_tool_augmentation(text)\n",
    "\n",
    "pos_text"
   ]
  },
  {
   "cell_type": "code",
   "execution_count": 72,
   "metadata": {},
   "outputs": [
    {
     "name": "stdout",
     "output_type": "stream",
     "text": [
      "\n",
      "Given entity label set: ['human-powered', 'animal-powered', 'railways', 'roadways', 'water_transport', 'air_transport'].\n",
      "Given the text and the corresponding Part-of-Speech tags, please recognize the named entities in the given text. Let's infer named entities step by step from the text based on the given Part-of-Speech tags.\n",
      "Text: As we planned to jet set, the thought of following the flight path excited us.\n",
      "Part-of-Speech tags: As/SCONJ we/PRON planned/VERB to/PART jet/VERB set/NOUN ,/PUNCT the/DET thought/NOUN of/SCONJ following/VERB the/DET flight/NOUN path/NOUN excited/VERB us/PRON ./PUNCT\n",
      "Question: What are the named entities labeled as \"human-powered\" in the text?\n",
      "Answer:\n",
      "\n"
     ]
    }
   ],
   "source": [
    "ta_sp_user_prompt_template = \"\"\"\n",
    "Given entity label set: {entity_set}.\n",
    "Given the text and the corresponding Part-of-Speech tags, please recognize the named entities in the given text. Let's infer named entities step by step from the text based on the given Part-of-Speech tags.\n",
    "Text: {input_text}\n",
    "Part-of-Speech tags: {pos_text}\n",
    "Question: What are the named entities labeled as \"{entity}\" in the text?\n",
    "Answer:\n",
    "\"\"\"\n",
    "\n",
    "ta_sp_user_prompt = ta_sp_user_prompt_template.format(entity_set=str(list(definitions.keys())), \n",
    "                                  input_text=text, pos_text=get_tool_augmentation(text), \n",
    "                                  entity=\"human-powered\")\n",
    "\n",
    "print(ta_sp_user_prompt)"
   ]
  },
  {
   "cell_type": "markdown",
   "metadata": {},
   "source": [
    "## Negative sampling"
   ]
  },
  {
   "cell_type": "code",
   "execution_count": 75,
   "metadata": {},
   "outputs": [
    {
     "data": {
      "text/plain": [
       "{'human-powered': ['dance moves', 'jump', 'stride'],\n",
       " 'animal-powered': ['horseback ride',\n",
       "  'elephants on parade',\n",
       "  'reindeer sleigh'],\n",
       " 'railways': ['train station sound', 'railroad tracks', 'subway vibes'],\n",
       " 'roadways': ['car journey', 'highway drive', 'motorcycle ride'],\n",
       " 'water_transport': ['sailing away', 'cruise rhythm', 'rowboat'],\n",
       " 'air_transport': ['jet set', 'helicopter spree', 'flight path']}"
      ]
     },
     "execution_count": 75,
     "metadata": {},
     "output_type": "execute_result"
    }
   ],
   "source": [
    "entity_vocab"
   ]
  },
  {
   "cell_type": "code",
   "execution_count": 76,
   "metadata": {},
   "outputs": [
    {
     "data": {
      "text/plain": [
       "{'human-powered': [{'sentence': 'The dance moves were as lively as a jump during a long stride.',\n",
       "   'entities': {'human-powered': ['dance moves', 'jump', 'stride']}},\n",
       "  {'sentence': 'Her jump during the performance was as smooth as a carefully executed stride.',\n",
       "   'entities': {'human-powered': ['jump', 'stride']}},\n",
       "  {'sentence': 'With each stride, he executed dance moves that left everyone in awe.',\n",
       "   'entities': {'human-powered': ['stride', 'dance moves']}}],\n",
       " 'animal-powered': [{'sentence': 'The horseback ride was scenic, reminiscent of elephants on parade.',\n",
       "   'entities': {'animal-powered': ['horseback ride', 'elephants on parade']}},\n",
       "  {'sentence': 'During the winter holidays, a reindeer sleigh is as enchanting as elephants on parade.',\n",
       "   'entities': {'animal-powered': ['reindeer sleigh', 'elephants on parade']}},\n",
       "  {'sentence': 'A horseback ride through the snowy woods felt as magical as a reindeer sleigh.',\n",
       "   'entities': {'animal-powered': ['horseback ride', 'reindeer sleigh']}}],\n",
       " 'railways': [{'sentence': 'Standing among the subway vibes, the distant train station sound was quite distinct.',\n",
       "   'entities': {'railways': ['subway vibes', 'train station sound']}},\n",
       "  {'sentence': 'The old railroad tracks gave off a nostalgic feel as the train station sound echoed.',\n",
       "   'entities': {'railways': ['railroad tracks', 'train station sound']}},\n",
       "  {'sentence': 'Subway vibes merged with the rhythmic clatter of the railroad tracks.',\n",
       "   'entities': {'railways': ['subway vibes', 'railroad tracks']}}],\n",
       " 'roadways': [{'sentence': 'The motorcycle ride was an exhilarating part of their car journey.',\n",
       "   'entities': {'roadways': ['motorcycle ride', 'car journey']}},\n",
       "  {'sentence': 'A highway drive can bring as much thrill as a motorcycle ride.',\n",
       "   'entities': {'roadways': ['highway drive', 'motorcycle ride']}},\n",
       "  {'sentence': 'During the long car journey, they reminisced about their last highway drive.',\n",
       "   'entities': {'roadways': ['car journey', 'highway drive']}}],\n",
       " 'water_transport': [{'sentence': 'Sailing away felt like the perfect start to our rowboat adventure.',\n",
       "   'entities': {'water_transport': ['sailing away', 'rowboat']}},\n",
       "  {'sentence': 'Finding the cruise rhythm, they felt as relaxed as when rowing a rowboat.',\n",
       "   'entities': {'water_transport': ['cruise rhythm', 'rowboat']}},\n",
       "  {'sentence': 'With everyone in cruise rhythm, they imagined sailing away into the sunset.',\n",
       "   'entities': {'water_transport': ['cruise rhythm', 'sailing away']}}],\n",
       " 'air_transport': [{'sentence': 'As we planned to jet set, the thought of following the flight path excited us.',\n",
       "   'entities': {'air_transport': ['jet set', 'flight path']}},\n",
       "  {'sentence': 'The helicopter spree offered views that followed a unique flight path.',\n",
       "   'entities': {'air_transport': ['helicopter spree', 'flight path']}},\n",
       "  {'sentence': 'During our helicopter spree, we dreamed of our next jet set adventure.',\n",
       "   'entities': {'air_transport': ['helicopter spree', 'jet set']}}]}"
      ]
     },
     "execution_count": 76,
     "metadata": {},
     "output_type": "execute_result"
    }
   ],
   "source": [
    "entity_examples"
   ]
  },
  {
   "cell_type": "code",
   "execution_count": null,
   "metadata": {},
   "outputs": [],
   "source": [
    "import random\n",
    "\n",
    "key = ...\n",
    "values = ...\n",
    "\n",
    "_value = random.choice(list(set(entity_vocab[key]) - set(values)))\n",
    "\n",
    "key_ = random.choice(list(set(entity_vocab.keys()) - {key}))\n",
    "value_ = random.choice(entity_vocab[key_])\n",
    "\n",
    "ns_user_prompt = '\\n'.join([f\"'{value}' is a '{key}'.\" for value in values]) + \\\n",
    "    f\"'{_value}' is a '{key}'.\" + \\\n",
    "    f\"'{value_}' is not a '{key}'.\""
   ]
  },
  {
   "cell_type": "markdown",
   "metadata": {},
   "source": [
    "## Dynamic few-shot choice"
   ]
  },
  {
   "cell_type": "code",
   "execution_count": null,
   "metadata": {},
   "outputs": [],
   "source": []
  },
  {
   "cell_type": "markdown",
   "metadata": {},
   "source": [
    "## Guidelines update from errors"
   ]
  },
  {
   "cell_type": "markdown",
   "metadata": {},
   "source": []
  }
 ],
 "metadata": {
  "kernelspec": {
   "display_name": "mobility",
   "language": "python",
   "name": "python3"
  },
  "language_info": {
   "codemirror_mode": {
    "name": "ipython",
    "version": 3
   },
   "file_extension": ".py",
   "mimetype": "text/x-python",
   "name": "python",
   "nbconvert_exporter": "python",
   "pygments_lexer": "ipython3",
   "version": "3.10.15"
  }
 },
 "nbformat": 4,
 "nbformat_minor": 2
}
