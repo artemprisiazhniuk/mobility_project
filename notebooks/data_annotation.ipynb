{
 "cells": [
  {
   "cell_type": "markdown",
   "metadata": {},
   "source": [
    "# Data Annotation"
   ]
  },
  {
   "cell_type": "markdown",
   "metadata": {},
   "source": [
    "- definitions & guidelines\n",
    "- Tool Augmentation, Syntactic Prompting\n",
    "- Negative sampling\n",
    "- Dynamic few-shot choice\n",
    "- Prompts from errors"
   ]
  },
  {
   "cell_type": "markdown",
   "metadata": {},
   "source": [
    "## Querying"
   ]
  },
  {
   "cell_type": "code",
   "execution_count": 1,
   "metadata": {},
   "outputs": [],
   "source": [
    "from openai import OpenAI\n",
    "\n",
    "client = OpenAI()"
   ]
  },
  {
   "cell_type": "code",
   "execution_count": 2,
   "metadata": {},
   "outputs": [],
   "source": [
    "import json\n",
    "\n",
    "def run_query(system_prompt, user_prompt, response_type=\"json_object\"):\n",
    "    completion = client.chat.completions.create(\n",
    "        model=\"gpt-4o\",\n",
    "        messages=[\n",
    "            {\"role\": \"system\", \"content\": system_prompt},\n",
    "            {\"role\": \"user\", \"content\": user_prompt}\n",
    "        ],\n",
    "        response_format={\"type\": response_type}\n",
    "    )\n",
    "    result = completion.choices[0].message.content\n",
    "    \n",
    "    if response_type == \"json_object\":\n",
    "        result = json.loads(result)    \n",
    "    \n",
    "    return result"
   ]
  },
  {
   "cell_type": "code",
   "execution_count": 3,
   "metadata": {},
   "outputs": [],
   "source": [
    "def get_embedding(text):\n",
    "    text = text.replace(\"\\n\", \" \")\n",
    "    \n",
    "    response = client.embeddings.create(\n",
    "        input=text,\n",
    "        model=\"text-embedding-3-small\"\n",
    "    )\n",
    "\n",
    "    embedding = response.data[0].embedding\n",
    "    \n",
    "    return embedding"
   ]
  },
  {
   "cell_type": "markdown",
   "metadata": {},
   "source": [
    "## Definitions & Guidelines"
   ]
  },
  {
   "cell_type": "code",
   "execution_count": 4,
   "metadata": {},
   "outputs": [
    {
     "data": {
      "text/plain": [
       "{'human-powered': 'Human powered transport, a form of sustainable transportation, is the transport of people and/or goods using human muscle-power, in the form of walking, running and swimming. Modern technology has allowed machines to enhance human power. Human-powered transport remains popular for reasons of cost-saving, leisure, physical exercise, and environmentalism; it is sometimes the only type available, especially in underdeveloped or inaccessible regions.Although humans are able to walk without infrastructure, the transport can be enhanced through the use of roads, especially when using the human power with vehicles, such as bicycles and inline skates. Human-powered vehicles have also been developed for difficult environments, such as snow and water, by watercraft rowing and skiing; even the air can be entered with human-powered aircraft.',\n",
       " 'animal-powered': 'Animal-powered transport is the use of working animals for the transport of people and/or goods. Humans may use some of the animals directly, use them as pack animals for carrying goods, or harness them, alone or in teams, to pull watercraft, sleds, or wheeled vehicles.Riding animals are animals that people use as mounts in order to perform tasks such as traversing across long distances or over rugged terrain, hunting on horseback or with some other riding animal, patrolling around rural and/or wilderness areas, rounding up and/or herding livestock or even for recreational enjoyment. They mainly include equines such as horses, donkeys, and mules; bovines such as cattle, water buffalo, and yak. In some places, elephants, llamas and camels are also used. Dromedary camels are in arid areas of Australia, North Africa and the Middle East; the less common Bactrian camel inhabits central and East Asia; both are used as working animals. On occasion, reindeer, though usually driven, may be ridden. Certain wild animals have been tamed and used for riding, usually for novelty purposes, including the zebra and the ostrich. Some mythical creatures are believed to act as divine mounts, such as garuda in Hinduism (See vahana for divine mounts in Hinduism) and the winged horse Pegasus in Greek mythology.',\n",
       " 'railways': \"Rail transport is a means of conveyance of passengers and goods by way of wheeled vehicles running on rail track, known as a railway or railroad. The rails are anchored perpendicular to railroad train consists of one or more connected vehicles that run on the rails. Propulsion is commonly provided by a locomotive, that hauls a series of unpowered cars, that can carry passengers or freight. The locomotive can be powered by steam, diesel or by electricity supplied by trackside systems. Alternatively, some or all the cars can be powered, known as a multiple unit. Also, a train can be powered by horses, cables, gravity, pneumatics and gas turbines. Railed vehicles move with much less friction than rubber tires on paved roads, making trains more energy efficient, though not as efficient as ships.Intercity trains are long-haul services connecting cities;[12] modern high-speed rail is capable of speeds up to 430 km/h (270 mph), but this requires a specially built track. Regional and commuter trains feed cities from suburbs and surrounding areas, while intra-urban transport is performed by high-capacity tramways and rapid transits, often making up the backbone of a city's public transport. Freight trains traditionally used box cars, requiring manual loading and unloading of the cargo. Since the 1960s, container trains have become the dominant solution for general freight, while large quantities of bulk are transported by dedicated trains.\",\n",
       " 'roadways': 'A road is an identifiable route of travel, usually surfaced with gravel, asphalt or concrete, and supporting land passage by foot or by a number of vehicles.The most common road vehicle in the developed world is the automobile, a wheeled passenger vehicle that carries its own motor. As of 2002, there were 591 million automobiles worldwide.[citation needed] Other users of roads include motorcycles, buses, trucks, bicycles and pedestrians, and special provisions are sometimes made for each of these. For example, bus lanes give priority for public transport, and cycle lanes provide special areas of road for bicycles to use.Automobiles offer high flexibility, but are deemed with high energy and area use, and the main source of noise and air pollution in cities; buses allow for more efficient travel at the cost of reduced flexibility.[13] Road transport by truck is often the initial and final stage of freight transport.',\n",
       " 'water_transport': 'Water transport is the process of transport that a watercraft, such as a bart, ship or sailboat, makes over a body of water, such as a sea, ocean, lake, canal, or river. If a boat or other vessel can successfully pass through a waterway it is known as a navigable waterway. The need for buoyancy unites watercraft, and makes the hull a dominant aspect of its construction, maintenance and appearance. When a boat is floating on the water the hull of the boat is pushing aside water where the hull now is, this is known as displacement.In the 1800s, the first steamboats were developed, using a steam engine to drive a paddle wheel or propeller to move the ship. The steam was produced using wood or coal. Now, most ships have an engine using a slightly refined type of petroleum called bunker fuel. Some ships, such as submarines, use nuclear power to produce the steam. Recreational or educational craft still use wind power, while some smaller craft use internal combustion engines to drive one or more propellers, or in the case of jet boats, an inboard water jet. In shallow draft areas, hovercraft are propelled by large pusher-prop fans.Although slow, modern sea transport is a highly effective method of transporting large quantities of non-perishable goods. Commercial vessels, nearly 35,000 in number, carried 7.4 billion tons of cargo in 2007.[14] Transport by water is significantly less costly than air transport for transcontinental shipping;[15] short sea shipping and ferries remain viable in coastal areas.[16][17]',\n",
       " 'air_transport': \"A fixed-wing aircraft, typically airplane, is a heavier-than-air flying vehicle, in which the special geometry of the wings generates lift and then lifts the whole vehicle. Fixed-wing aircraft range from small trainers and recreational aircraft to large airliners and military cargo aircraft. For short distances or in places without runways, helicopters can be operable.[2] (Other types of aircraft, like autogyros and airships, are not a significant portion of air transport.)Air transport is one of the fastest method of transport, Commercial jets reach speeds of up to 955 kilometres per hour (593 mph) and a considerably higher ground speed if there is a jet stream tailwind, while piston-powered general aviation aircraft may reach up to 555 kilometres per hour (345 mph) or more. This celerity comes with higher cost and energy use,[3] and aviation's impacts to the environment and particularly the global climate require consideration when comparing modes of transportation.[4] The Intergovernmental Panel on Climate Change (IPCC) estimates a commercial jet's flight to have some 2-4 times the effect on the climate than if the same CO2 emissions were made at ground level, because of different atmospheric chemistry and radiative forcing effects at the higher altitude.[5] U.S. airlines alone burned about 16.2 billion gallons of fuel during the twelve months between October 2013 and September 2014.[6] WHO estimates that globally as many as 500,000 people at a time are on planes.[3] The global trend has been for increasing numbers of people to travel by air, and individually to do so with increasing frequency and over longer distances, a dilemma that has the attention of climate scientists and other researchers,[7][8][9] along with the press.[10][11] The issue of impacts from frequent travel, particularly by air because of the long distances that are easily covered in one or a few days, is called hypermobility and has been a topic of research and governmental concern for many years.\"}"
      ]
     },
     "execution_count": 4,
     "metadata": {},
     "output_type": "execute_result"
    }
   ],
   "source": [
    "import json\n",
    "\n",
    "with open(\"../data/definitions.json\") as f:\n",
    "    definitions = json.load(f)\n",
    "    \n",
    "del definitions['mode of transport']\n",
    "definitions"
   ]
  },
  {
   "cell_type": "code",
   "execution_count": 5,
   "metadata": {},
   "outputs": [],
   "source": [
    "system_prompt = \"You are a helpful NER data annotator designed to output JSON.\"\n",
    "dg_user_prompt_template = \"\"\"\n",
    "Named Entity: \"{entity}\". Definition: {definition}. Examples: {examples}.\n",
    "\n",
    "Instructions: \n",
    "1. Provide a concise definition for the named entity \"{entity}\" in the context of NER.\n",
    "2. Provide guidelines by specifying what entities should not be labelled as \"{entity}\" and include potential pitfalls to avoid. Go beyond generic terms and delve into nuanced scenarios. Be explicit about potential ambiguities and provide guidance on distinguishing \"{entity}\" from similar entities.\n",
    "\n",
    "Output in JSON format: {{\"Definition\": \"\", \"Guidelines\": \"\"}}.\n",
    "\"\"\""
   ]
  },
  {
   "cell_type": "code",
   "execution_count": 11,
   "metadata": {},
   "outputs": [
    {
     "data": {
      "text/plain": [
       "{'human-powered': ['bicycle',\n",
       "  'inline skates',\n",
       "  'rowing boat',\n",
       "  'kayak',\n",
       "  'pedal-powered aircraft'],\n",
       " 'animal-powered': ['horse-drawn carriage',\n",
       "  'ox-cart',\n",
       "  'camel caravan',\n",
       "  'elephant ride',\n",
       "  'donkey pack'],\n",
       " 'railways': ['steam locomotive',\n",
       "  'electric train',\n",
       "  'diesel train',\n",
       "  'high-speed train',\n",
       "  'tram'],\n",
       " 'roadways': ['automobile', 'motorcycle', 'bus', 'truck', 'motor scooter'],\n",
       " 'water_transport': ['cargo ship',\n",
       "  'ferry',\n",
       "  'sailboat',\n",
       "  'submarine',\n",
       "  'hovercraft'],\n",
       " 'air_transport': ['airplane',\n",
       "  'helicopter',\n",
       "  'jet airliner',\n",
       "  'cargo plane',\n",
       "  'glider']}"
      ]
     },
     "execution_count": 11,
     "metadata": {},
     "output_type": "execute_result"
    }
   ],
   "source": [
    "entity_vocab_user_prompt = f\"\"\"\n",
    "Here is an entity type set: [{str(list(definitions.keys()))}].\n",
    "\"\"\" + \\\n",
    "'\\n'.join([f\"The definition of {entity} is {definition};\" for entity, definition in definitions.items()]) + \\\n",
    "\"\"\"\n",
    "Please imagine a list of 5 diverse means of transport for each entity type in the set. Think step-by-step. Make sure to follow the definition of each entity. Include only the most relevant means of transport.\n",
    "Only use names of means of transport, do not include associations.\n",
    "Only associate one mean of transport with one entity type. If it is ambiguos, do not include it.\n",
    "Output in JSON format: {\"Entity Type 1\": [\"word1\", ...], \"Entity Type 2\": [\"word1\", ...], ...}.\n",
    "\"\"\"\n",
    "\n",
    "entity_vocab = run_query(system_prompt, entity_vocab_user_prompt)\n",
    "entity_vocab"
   ]
  },
  {
   "cell_type": "code",
   "execution_count": 12,
   "metadata": {},
   "outputs": [
    {
     "data": {
      "text/plain": [
       "{'human-powered': [{'text': 'The city park is perfect for riding a bicycle or enjoying a relaxing time with inline skates.',\n",
       "   'entities': {'human-powered': ['bicycle', 'inline skates']}},\n",
       "  {'text': 'On weekends, I love taking my kayak to the lake and exploring the serene waters.',\n",
       "   'entities': {'human-powered': ['kayak']}},\n",
       "  {'text': 'The rowing boat races on the river draw huge crowds each summer.',\n",
       "   'entities': {'human-powered': ['rowing boat']}},\n",
       "  {'text': 'He dreams of piloting a pedal-powered aircraft in the annual airshow.',\n",
       "   'entities': {'human-powered': ['pedal-powered aircraft']}},\n",
       "  {'text': 'Inline skates are a great way to improve balance and coordination while having fun.',\n",
       "   'entities': {'human-powered': ['inline skates']}}],\n",
       " 'animal-powered': [{'text': 'The traditional village festival features a parade with a majestic elephant ride.',\n",
       "   'entities': {'animal-powered': ['elephant ride']}},\n",
       "  {'text': 'In the desert, a camel caravan is essential for transporting goods over vast stretches.',\n",
       "   'entities': {'animal-powered': ['camel caravan']}},\n",
       "  {'text': 'Visitors to the countryside often enjoy a peaceful horse-drawn carriage ride.',\n",
       "   'entities': {'animal-powered': ['horse-drawn carriage']}},\n",
       "  {'text': 'The ox-cart farmer brought fresh produce to the market.',\n",
       "   'entities': {'animal-powered': ['ox-cart']}},\n",
       "  {'text': 'On mountain trails, a trusty donkey pack carries supplies for hikers.',\n",
       "   'entities': {'animal-powered': ['donkey pack']}}],\n",
       " 'railways': [{'text': 'The high-speed train whizzed past the countryside, reaching its destination in record time.',\n",
       "   'entities': {'railways': ['high-speed train']}},\n",
       "  {'text': 'The electric train is an environmentally friendly option for city commuters.',\n",
       "   'entities': {'railways': ['electric train']}},\n",
       "  {'text': 'Listening to the rhythmic chugging of a steam locomotive on a vintage railway tour is mesmerizing.',\n",
       "   'entities': {'railways': ['steam locomotive']}},\n",
       "  {'text': 'The diesel train is often used for long-distance transport across the continent.',\n",
       "   'entities': {'railways': ['diesel train']}},\n",
       "  {'text': 'The tram slowly made its way through the bustling downtown district.',\n",
       "   'entities': {'railways': ['tram']}}],\n",
       " 'roadways': [{'text': 'He bought a new motorcycle, because it is the best way to avoid traffic jams.',\n",
       "   'entities': {'roadways': ['motorcycle']}},\n",
       "  {'text': 'The bus ride through the city offers a convenient view of the main attractions.',\n",
       "   'entities': {'roadways': ['bus']}},\n",
       "  {'text': 'The compact motor scooter is popular among students for its affordability.',\n",
       "   'entities': {'roadways': ['motor scooter']}},\n",
       "  {'text': 'Truck drivers are critical to ensuring the supply chain runs smoothly.',\n",
       "   'entities': {'roadways': ['truck']}},\n",
       "  {'text': 'Automobile races on the grand prix circuit are thrilling to watch.',\n",
       "   'entities': {'roadways': ['automobile']}}],\n",
       " 'water_transport': [{'text': 'A ferry transported passengers across the bay, offering picturesque views.',\n",
       "   'entities': {'water_transport': ['ferry']}},\n",
       "  {'text': 'Sailing competitions draw many to watch the skill and strategy of sailboat captains.',\n",
       "   'entities': {'water_transport': ['sailboat']}},\n",
       "  {'text': 'The hovercraft glided effortlessly over both water and land during the rescue operation.',\n",
       "   'entities': {'water_transport': ['hovercraft']}},\n",
       "  {'text': \"The submarine conducted research missions deep beneath the ocean's surface.\",\n",
       "   'entities': {'water_transport': ['submarine']}},\n",
       "  {'text': 'The cargo ship embarked on its long journey across the Atlantic Ocean.',\n",
       "   'entities': {'water_transport': ['cargo ship']}}],\n",
       " 'air_transport': [{'text': 'The early morning flight on the jet airliner was smooth and on schedule.',\n",
       "   'entities': {'air_transport': ['jet airliner']}},\n",
       "  {'text': 'The majestic sight of a glider soaring silently through the sky captivates everyone watching.',\n",
       "   'entities': {'air_transport': ['glider']}},\n",
       "  {'text': 'Airport staff ensured the cargo plane was loaded efficiently and departed on time.',\n",
       "   'entities': {'air_transport': ['cargo plane']}},\n",
       "  {'text': 'The helicopter hovered over the city, providing aerial views for the news broadcast.',\n",
       "   'entities': {'air_transport': ['helicopter']}},\n",
       "  {'text': 'The airplane took off on a bright sunny day, bound for the tropical island.',\n",
       "   'entities': {'air_transport': ['airplane']}}]}"
      ]
     },
     "execution_count": 12,
     "metadata": {},
     "output_type": "execute_result"
    }
   ],
   "source": [
    "example_generation_user_prompt = f\"\"\"\n",
    "Here is an entity type set: [{str(list(entity_vocab.keys()))}].\n",
    "Construct a sentence that contains entities from the following words:\n",
    "\"\"\" + \\\n",
    "'\\n'.join([f\"{entity}: {', '.join(words)};\" for entity, words in entity_vocab.items()]) + \\\n",
    "\"\"\"\n",
    "Output the sentence along with the utilized entities. Please imagine 5 different sentences for every entity type. Think step-by-step.\n",
    "Output in JSON format: {\"Entity Type 1\": [{\"text\": \"\", \"entities\": {\"Entity Type 1\": [\"value\", ...]}}, ...], ...}.\n",
    "\"\"\"\n",
    "\n",
    "entity_examples = run_query(system_prompt, example_generation_user_prompt)\n",
    "entity_examples"
   ]
  },
  {
   "cell_type": "code",
   "execution_count": null,
   "metadata": {},
   "outputs": [],
   "source": []
  },
  {
   "cell_type": "code",
   "execution_count": 13,
   "metadata": {},
   "outputs": [],
   "source": [
    "entity_metadata = dict()\n",
    "\n",
    "for entity, examples in entity_examples.items():\n",
    "    definition = definitions[entity]\n",
    "    \n",
    "    items = entity_vocab[entity]\n",
    "    \n",
    "    dg_user_prompt = dg_user_prompt_template.format(entity=entity, definition=definition, examples=str(examples))\n",
    "    result = run_query(system_prompt, dg_user_prompt)\n",
    "    \n",
    "    entity_metadata[entity] = {'examples': examples,\n",
    "                               'items': items,\n",
    "                               'definition': result['Definition'],\n",
    "                               'guidelines': result['Guidelines']}"
   ]
  },
  {
   "cell_type": "code",
   "execution_count": 14,
   "metadata": {},
   "outputs": [
    {
     "data": {
      "text/plain": [
       "{'examples': [{'text': 'The city park is perfect for riding a bicycle or enjoying a relaxing time with inline skates.',\n",
       "   'entities': {'human-powered': ['bicycle', 'inline skates']}},\n",
       "  {'text': 'On weekends, I love taking my kayak to the lake and exploring the serene waters.',\n",
       "   'entities': {'human-powered': ['kayak']}},\n",
       "  {'text': 'The rowing boat races on the river draw huge crowds each summer.',\n",
       "   'entities': {'human-powered': ['rowing boat']}},\n",
       "  {'text': 'He dreams of piloting a pedal-powered aircraft in the annual airshow.',\n",
       "   'entities': {'human-powered': ['pedal-powered aircraft']}},\n",
       "  {'text': 'Inline skates are a great way to improve balance and coordination while having fun.',\n",
       "   'entities': {'human-powered': ['inline skates']}}],\n",
       " 'items': ['bicycle',\n",
       "  'inline skates',\n",
       "  'rowing boat',\n",
       "  'kayak',\n",
       "  'pedal-powered aircraft'],\n",
       " 'definition': \"In the context of NER, 'human-powered' refers to any form of transportation that relies primarily on human physical effort for movement. This includes vehicles and devices such as bicycles, kayaks, rowing boats, inline skates, and pedal-powered aircraft, as well as activities like walking or running when explicitly referenced as a means of transportation.\",\n",
       " 'guidelines': \"To accurately label 'human-powered' entities, focus on those modes of transport that require direct physical effort and control by humans without the primary aid of engines or motors. Avoid labeling vehicles or devices powered by engines, motors, or any non-human means as 'human-powered'. Be cautious not to label generic activities like 'walking' or 'running' unless they are specifically mentioned in the context of transportation or travel. Distinguish between purely recreational equipment and those used for transport; for example, a 'scooter' could be motorized, so only label it 'human-powered' if explicitly stated as such. Additionally, avoid labeling hybrid solutions where human power is secondary to mechanical or electrical power (e.g., e-bikes or electric skateboards) unless they are described explicitly as functioning based on human power alone. Lastly, be mindful of instances where traditional human-powered items are referenced but in a non-transport context, such as 'walking treadmill' in a gym setting.\"}"
      ]
     },
     "execution_count": 14,
     "metadata": {},
     "output_type": "execute_result"
    }
   ],
   "source": [
    "entity_metadata['human-powered']"
   ]
  },
  {
   "cell_type": "code",
   "execution_count": 15,
   "metadata": {},
   "outputs": [],
   "source": [
    "with open(\"../data/entity_metadata.json\", \"w\") as f:\n",
    "    json.dump(entity_metadata, f, indent=4)"
   ]
  },
  {
   "cell_type": "markdown",
   "metadata": {},
   "source": [
    "## Prompt optimizations"
   ]
  },
  {
   "cell_type": "code",
   "execution_count": 70,
   "metadata": {},
   "outputs": [
    {
     "data": {
      "text/plain": [
       "{'human-powered': 'Human powered transport, a form of sustainable transportation, is the transport of people and/or goods using human muscle-power, in the form of walking, running and swimming. Modern technology has allowed machines to enhance human power. Human-powered transport remains popular for reasons of cost-saving, leisure, physical exercise, and environmentalism; it is sometimes the only type available, especially in underdeveloped or inaccessible regions.Although humans are able to walk without infrastructure, the transport can be enhanced through the use of roads, especially when using the human power with vehicles, such as bicycles and inline skates. Human-powered vehicles have also been developed for difficult environments, such as snow and water, by watercraft rowing and skiing; even the air can be entered with human-powered aircraft.',\n",
       " 'animal-powered': 'Animal-powered transport is the use of working animals for the transport of people and/or goods. Humans may use some of the animals directly, use them as pack animals for carrying goods, or harness them, alone or in teams, to pull watercraft, sleds, or wheeled vehicles.Riding animals are animals that people use as mounts in order to perform tasks such as traversing across long distances or over rugged terrain, hunting on horseback or with some other riding animal, patrolling around rural and/or wilderness areas, rounding up and/or herding livestock or even for recreational enjoyment. They mainly include equines such as horses, donkeys, and mules; bovines such as cattle, water buffalo, and yak. In some places, elephants, llamas and camels are also used. Dromedary camels are in arid areas of Australia, North Africa and the Middle East; the less common Bactrian camel inhabits central and East Asia; both are used as working animals. On occasion, reindeer, though usually driven, may be ridden. Certain wild animals have been tamed and used for riding, usually for novelty purposes, including the zebra and the ostrich. Some mythical creatures are believed to act as divine mounts, such as garuda in Hinduism (See vahana for divine mounts in Hinduism) and the winged horse Pegasus in Greek mythology.',\n",
       " 'railways': \"Rail transport is a means of conveyance of passengers and goods by way of wheeled vehicles running on rail track, known as a railway or railroad. The rails are anchored perpendicular to railroad train consists of one or more connected vehicles that run on the rails. Propulsion is commonly provided by a locomotive, that hauls a series of unpowered cars, that can carry passengers or freight. The locomotive can be powered by steam, diesel or by electricity supplied by trackside systems. Alternatively, some or all the cars can be powered, known as a multiple unit. Also, a train can be powered by horses, cables, gravity, pneumatics and gas turbines. Railed vehicles move with much less friction than rubber tires on paved roads, making trains more energy efficient, though not as efficient as ships.Intercity trains are long-haul services connecting cities;[12] modern high-speed rail is capable of speeds up to 430 km/h (270 mph), but this requires a specially built track. Regional and commuter trains feed cities from suburbs and surrounding areas, while intra-urban transport is performed by high-capacity tramways and rapid transits, often making up the backbone of a city's public transport. Freight trains traditionally used box cars, requiring manual loading and unloading of the cargo. Since the 1960s, container trains have become the dominant solution for general freight, while large quantities of bulk are transported by dedicated trains.\",\n",
       " 'roadways': 'A road is an identifiable route of travel, usually surfaced with gravel, asphalt or concrete, and supporting land passage by foot or by a number of vehicles.The most common road vehicle in the developed world is the automobile, a wheeled passenger vehicle that carries its own motor. As of 2002, there were 591 million automobiles worldwide.[citation needed] Other users of roads include motorcycles, buses, trucks, bicycles and pedestrians, and special provisions are sometimes made for each of these. For example, bus lanes give priority for public transport, and cycle lanes provide special areas of road for bicycles to use.Automobiles offer high flexibility, but are deemed with high energy and area use, and the main source of noise and air pollution in cities; buses allow for more efficient travel at the cost of reduced flexibility.[13] Road transport by truck is often the initial and final stage of freight transport.',\n",
       " 'water_transport': 'Water transport is the process of transport that a watercraft, such as a bart, ship or sailboat, makes over a body of water, such as a sea, ocean, lake, canal, or river. If a boat or other vessel can successfully pass through a waterway it is known as a navigable waterway. The need for buoyancy unites watercraft, and makes the hull a dominant aspect of its construction, maintenance and appearance. When a boat is floating on the water the hull of the boat is pushing aside water where the hull now is, this is known as displacement.In the 1800s, the first steamboats were developed, using a steam engine to drive a paddle wheel or propeller to move the ship. The steam was produced using wood or coal. Now, most ships have an engine using a slightly refined type of petroleum called bunker fuel. Some ships, such as submarines, use nuclear power to produce the steam. Recreational or educational craft still use wind power, while some smaller craft use internal combustion engines to drive one or more propellers, or in the case of jet boats, an inboard water jet. In shallow draft areas, hovercraft are propelled by large pusher-prop fans.Although slow, modern sea transport is a highly effective method of transporting large quantities of non-perishable goods. Commercial vessels, nearly 35,000 in number, carried 7.4 billion tons of cargo in 2007.[14] Transport by water is significantly less costly than air transport for transcontinental shipping;[15] short sea shipping and ferries remain viable in coastal areas.[16][17]',\n",
       " 'air_transport': \"A fixed-wing aircraft, typically airplane, is a heavier-than-air flying vehicle, in which the special geometry of the wings generates lift and then lifts the whole vehicle. Fixed-wing aircraft range from small trainers and recreational aircraft to large airliners and military cargo aircraft. For short distances or in places without runways, helicopters can be operable.[2] (Other types of aircraft, like autogyros and airships, are not a significant portion of air transport.)Air transport is one of the fastest method of transport, Commercial jets reach speeds of up to 955 kilometres per hour (593 mph) and a considerably higher ground speed if there is a jet stream tailwind, while piston-powered general aviation aircraft may reach up to 555 kilometres per hour (345 mph) or more. This celerity comes with higher cost and energy use,[3] and aviation's impacts to the environment and particularly the global climate require consideration when comparing modes of transportation.[4] The Intergovernmental Panel on Climate Change (IPCC) estimates a commercial jet's flight to have some 2-4 times the effect on the climate than if the same CO2 emissions were made at ground level, because of different atmospheric chemistry and radiative forcing effects at the higher altitude.[5] U.S. airlines alone burned about 16.2 billion gallons of fuel during the twelve months between October 2013 and September 2014.[6] WHO estimates that globally as many as 500,000 people at a time are on planes.[3] The global trend has been for increasing numbers of people to travel by air, and individually to do so with increasing frequency and over longer distances, a dilemma that has the attention of climate scientists and other researchers,[7][8][9] along with the press.[10][11] The issue of impacts from frequent travel, particularly by air because of the long distances that are easily covered in one or a few days, is called hypermobility and has been a topic of research and governmental concern for many years.\"}"
      ]
     },
     "execution_count": 70,
     "metadata": {},
     "output_type": "execute_result"
    }
   ],
   "source": [
    "import json\n",
    "\n",
    "with open(\"../data/definitions.json\") as f:\n",
    "    definitions = json.load(f)\n",
    "    \n",
    "del definitions['mode of transport']\n",
    "definitions"
   ]
  },
  {
   "cell_type": "code",
   "execution_count": 66,
   "metadata": {},
   "outputs": [
    {
     "data": {
      "application/vnd.jupyter.widget-view+json": {
       "model_id": "6b8d49be91f64d29b6cb0f1fdfde8ff2",
       "version_major": 2,
       "version_minor": 0
      },
      "text/plain": [
       "Downloading https://raw.githubusercontent.com/stanfordnlp/stanza-resources/main/resources_1.10.0.json:   0%|  …"
      ]
     },
     "metadata": {},
     "output_type": "display_data"
    },
    {
     "name": "stderr",
     "output_type": "stream",
     "text": [
      "2025-01-23 19:52:54 INFO: Downloaded file to /Users/artempris/stanza_resources/resources.json\n",
      "2025-01-23 19:52:54 INFO: Downloading default packages for language: en (English) ...\n"
     ]
    },
    {
     "data": {
      "application/vnd.jupyter.widget-view+json": {
       "model_id": "ac7b452fbbaa4ad18af677bd116cf97f",
       "version_major": 2,
       "version_minor": 0
      },
      "text/plain": [
       "Downloading https://huggingface.co/stanfordnlp/stanza-en/resolve/v1.10.0/models/default.zip:   0%|          | …"
      ]
     },
     "metadata": {},
     "output_type": "display_data"
    },
    {
     "name": "stderr",
     "output_type": "stream",
     "text": [
      "2025-01-23 19:54:18 INFO: Downloaded file to /Users/artempris/stanza_resources/en/default.zip\n",
      "2025-01-23 19:54:20 INFO: Finished downloading models and saved to /Users/artempris/stanza_resources\n",
      "2025-01-23 19:54:20 INFO: Checking for updates to resources.json in case models have been updated.  Note: this behavior can be turned off with download_method=None or download_method=DownloadMethod.REUSE_RESOURCES\n"
     ]
    },
    {
     "data": {
      "application/vnd.jupyter.widget-view+json": {
       "model_id": "4a51c9319282496ca831a205f88b431e",
       "version_major": 2,
       "version_minor": 0
      },
      "text/plain": [
       "Downloading https://raw.githubusercontent.com/stanfordnlp/stanza-resources/main/resources_1.10.0.json:   0%|  …"
      ]
     },
     "metadata": {},
     "output_type": "display_data"
    },
    {
     "name": "stderr",
     "output_type": "stream",
     "text": [
      "2025-01-23 19:54:20 INFO: Downloaded file to /Users/artempris/stanza_resources/resources.json\n",
      "2025-01-23 19:54:20 WARNING: Language en package default expects mwt, which has been added\n",
      "2025-01-23 19:54:21 INFO: Loading these models for language: en (English):\n",
      "===============================\n",
      "| Processor | Package         |\n",
      "-------------------------------\n",
      "| tokenize  | combined        |\n",
      "| mwt       | combined        |\n",
      "| pos       | combined_charlm |\n",
      "===============================\n",
      "\n",
      "2025-01-23 19:54:21 INFO: Using device: cpu\n",
      "2025-01-23 19:54:21 INFO: Loading: tokenize\n",
      "2025-01-23 19:54:21 INFO: Loading: mwt\n",
      "2025-01-23 19:54:21 INFO: Loading: pos\n",
      "2025-01-23 19:54:22 INFO: Done loading processors!\n"
     ]
    },
    {
     "name": "stdout",
     "output_type": "stream",
     "text": [
      "word: As\tPOS: SCONJ\n",
      "word: we\tPOS: PRON\n",
      "word: planned\tPOS: VERB\n",
      "word: to\tPOS: PART\n",
      "word: jet\tPOS: VERB\n",
      "word: set\tPOS: NOUN\n",
      "word: ,\tPOS: PUNCT\n",
      "word: the\tPOS: DET\n",
      "word: thought\tPOS: NOUN\n",
      "word: of\tPOS: SCONJ\n",
      "word: following\tPOS: VERB\n",
      "word: the\tPOS: DET\n",
      "word: flight\tPOS: NOUN\n",
      "word: path\tPOS: NOUN\n",
      "word: excited\tPOS: VERB\n",
      "word: us\tPOS: PRON\n",
      "word: .\tPOS: PUNCT\n"
     ]
    }
   ],
   "source": [
    "import stanza\n",
    "\n",
    "stanza.download('en')\n",
    "nlp = stanza.Pipeline('en', processors='tokenize,pos')"
   ]
  },
  {
   "cell_type": "code",
   "execution_count": 68,
   "metadata": {},
   "outputs": [],
   "source": [
    "def get_tool_augmentation(sentence, engine=nlp):\n",
    "    doc = engine(sentence)\n",
    "    pos_tags = [f\"{word.text}/{word.pos}\" for sent in doc.sentences for word in sent.words]\n",
    "    pos_text = ' '.join(pos_tags)\n",
    "    \n",
    "    return pos_text"
   ]
  },
  {
   "cell_type": "code",
   "execution_count": 69,
   "metadata": {},
   "outputs": [
    {
     "data": {
      "text/plain": [
       "'As/SCONJ we/PRON planned/VERB to/PART jet/VERB set/NOUN ,/PUNCT the/DET thought/NOUN of/SCONJ following/VERB the/DET flight/NOUN path/NOUN excited/VERB us/PRON ./PUNCT'"
      ]
     },
     "execution_count": 69,
     "metadata": {},
     "output_type": "execute_result"
    }
   ],
   "source": [
    "text = \"As we planned to jet set, the thought of following the flight path excited us.\"\n",
    "pos_text = get_tool_augmentation(text)\n",
    "\n",
    "pos_text"
   ]
  },
  {
   "cell_type": "code",
   "execution_count": 72,
   "metadata": {},
   "outputs": [
    {
     "name": "stdout",
     "output_type": "stream",
     "text": [
      "\n",
      "Given entity label set: ['human-powered', 'animal-powered', 'railways', 'roadways', 'water_transport', 'air_transport'].\n",
      "Given the text and the corresponding Part-of-Speech tags, please recognize the named entities in the given text. Let's infer named entities step by step from the text based on the given Part-of-Speech tags.\n",
      "Text: As we planned to jet set, the thought of following the flight path excited us.\n",
      "Part-of-Speech tags: As/SCONJ we/PRON planned/VERB to/PART jet/VERB set/NOUN ,/PUNCT the/DET thought/NOUN of/SCONJ following/VERB the/DET flight/NOUN path/NOUN excited/VERB us/PRON ./PUNCT\n",
      "Question: What are the named entities labeled as \"human-powered\" in the text?\n",
      "Answer:\n",
      "\n"
     ]
    }
   ],
   "source": [
    "ta_sp_user_prompt_template = \"\"\"\n",
    "Given entity label set: {entity_set}.\n",
    "Given the text and the corresponding Part-of-Speech tags, please recognize the named entities in the given text. Let's infer named entities step by step from the text based on the given Part-of-Speech tags.\n",
    "Text: {input_text}\n",
    "Part-of-Speech tags: {pos_text}\n",
    "Question: What are the named entities labeled as \"{entity}\" in the text?\n",
    "Answer:\n",
    "\"\"\"\n",
    "\n",
    "ta_sp_user_prompt = ta_sp_user_prompt_template.format(entity_set=str(list(definitions.keys())), \n",
    "                                  input_text=text, pos_text=get_tool_augmentation(text), \n",
    "                                  entity=\"human-powered\")\n",
    "\n",
    "print(ta_sp_user_prompt)"
   ]
  },
  {
   "cell_type": "markdown",
   "metadata": {},
   "source": [
    "## Negative sampling"
   ]
  },
  {
   "cell_type": "code",
   "execution_count": 75,
   "metadata": {},
   "outputs": [
    {
     "data": {
      "text/plain": [
       "{'human-powered': ['dance moves', 'jump', 'stride'],\n",
       " 'animal-powered': ['horseback ride',\n",
       "  'elephants on parade',\n",
       "  'reindeer sleigh'],\n",
       " 'railways': ['train station sound', 'railroad tracks', 'subway vibes'],\n",
       " 'roadways': ['car journey', 'highway drive', 'motorcycle ride'],\n",
       " 'water_transport': ['sailing away', 'cruise rhythm', 'rowboat'],\n",
       " 'air_transport': ['jet set', 'helicopter spree', 'flight path']}"
      ]
     },
     "execution_count": 75,
     "metadata": {},
     "output_type": "execute_result"
    }
   ],
   "source": [
    "entity_vocab"
   ]
  },
  {
   "cell_type": "code",
   "execution_count": 76,
   "metadata": {},
   "outputs": [
    {
     "data": {
      "text/plain": [
       "{'human-powered': [{'sentence': 'The dance moves were as lively as a jump during a long stride.',\n",
       "   'entities': {'human-powered': ['dance moves', 'jump', 'stride']}},\n",
       "  {'sentence': 'Her jump during the performance was as smooth as a carefully executed stride.',\n",
       "   'entities': {'human-powered': ['jump', 'stride']}},\n",
       "  {'sentence': 'With each stride, he executed dance moves that left everyone in awe.',\n",
       "   'entities': {'human-powered': ['stride', 'dance moves']}}],\n",
       " 'animal-powered': [{'sentence': 'The horseback ride was scenic, reminiscent of elephants on parade.',\n",
       "   'entities': {'animal-powered': ['horseback ride', 'elephants on parade']}},\n",
       "  {'sentence': 'During the winter holidays, a reindeer sleigh is as enchanting as elephants on parade.',\n",
       "   'entities': {'animal-powered': ['reindeer sleigh', 'elephants on parade']}},\n",
       "  {'sentence': 'A horseback ride through the snowy woods felt as magical as a reindeer sleigh.',\n",
       "   'entities': {'animal-powered': ['horseback ride', 'reindeer sleigh']}}],\n",
       " 'railways': [{'sentence': 'Standing among the subway vibes, the distant train station sound was quite distinct.',\n",
       "   'entities': {'railways': ['subway vibes', 'train station sound']}},\n",
       "  {'sentence': 'The old railroad tracks gave off a nostalgic feel as the train station sound echoed.',\n",
       "   'entities': {'railways': ['railroad tracks', 'train station sound']}},\n",
       "  {'sentence': 'Subway vibes merged with the rhythmic clatter of the railroad tracks.',\n",
       "   'entities': {'railways': ['subway vibes', 'railroad tracks']}}],\n",
       " 'roadways': [{'sentence': 'The motorcycle ride was an exhilarating part of their car journey.',\n",
       "   'entities': {'roadways': ['motorcycle ride', 'car journey']}},\n",
       "  {'sentence': 'A highway drive can bring as much thrill as a motorcycle ride.',\n",
       "   'entities': {'roadways': ['highway drive', 'motorcycle ride']}},\n",
       "  {'sentence': 'During the long car journey, they reminisced about their last highway drive.',\n",
       "   'entities': {'roadways': ['car journey', 'highway drive']}}],\n",
       " 'water_transport': [{'sentence': 'Sailing away felt like the perfect start to our rowboat adventure.',\n",
       "   'entities': {'water_transport': ['sailing away', 'rowboat']}},\n",
       "  {'sentence': 'Finding the cruise rhythm, they felt as relaxed as when rowing a rowboat.',\n",
       "   'entities': {'water_transport': ['cruise rhythm', 'rowboat']}},\n",
       "  {'sentence': 'With everyone in cruise rhythm, they imagined sailing away into the sunset.',\n",
       "   'entities': {'water_transport': ['cruise rhythm', 'sailing away']}}],\n",
       " 'air_transport': [{'sentence': 'As we planned to jet set, the thought of following the flight path excited us.',\n",
       "   'entities': {'air_transport': ['jet set', 'flight path']}},\n",
       "  {'sentence': 'The helicopter spree offered views that followed a unique flight path.',\n",
       "   'entities': {'air_transport': ['helicopter spree', 'flight path']}},\n",
       "  {'sentence': 'During our helicopter spree, we dreamed of our next jet set adventure.',\n",
       "   'entities': {'air_transport': ['helicopter spree', 'jet set']}}]}"
      ]
     },
     "execution_count": 76,
     "metadata": {},
     "output_type": "execute_result"
    }
   ],
   "source": [
    "entity_examples"
   ]
  },
  {
   "cell_type": "code",
   "execution_count": null,
   "metadata": {},
   "outputs": [],
   "source": [
    "import random\n",
    "\n",
    "key = ...\n",
    "values = ...\n",
    "\n",
    "_value = random.choice(list(set(entity_vocab[key]) - set(values)))\n",
    "\n",
    "key_ = random.choice(list(set(entity_vocab.keys()) - {key}))\n",
    "value_ = random.choice(entity_vocab[key_])\n",
    "\n",
    "ns_user_prompt = '\\n'.join([f\"'{value}' is a '{key}'.\" for value in values]) + \\\n",
    "    f\"'{_value}' is a '{key}'.\" + \\\n",
    "    f\"'{value_}' is not a '{key}'.\""
   ]
  },
  {
   "cell_type": "markdown",
   "metadata": {},
   "source": [
    "## Dynamic few-shot choice"
   ]
  },
  {
   "cell_type": "code",
   "execution_count": null,
   "metadata": {},
   "outputs": [],
   "source": [
    "from sklearn.neighbors import NearestNeighbors\n",
    "import numpy as np"
   ]
  },
  {
   "cell_type": "code",
   "execution_count": null,
   "metadata": {},
   "outputs": [],
   "source": [
    "examples_bank = ..."
   ]
  },
  {
   "cell_type": "code",
   "execution_count": null,
   "metadata": {},
   "outputs": [],
   "source": [
    "# get embeddings\n",
    "# for entity, data in entity_metadata.items():\n",
    "#     for i, example in enumerate(data['examples']):\n",
    "#         sentence = example['text']\n",
    "#         embedding = get_embedding(sentence)\n",
    "        \n",
    "#         entity_metadata[entity]['examples'][i]['embedding'] = embedding\n",
    "\n",
    "# with open(\"../data/entity_metadata.json\", \"w\") as f:\n",
    "#     json.dump(entity_metadata, f, indent=4)"
   ]
  },
  {
   "cell_type": "code",
   "execution_count": null,
   "metadata": {},
   "outputs": [],
   "source": []
  },
  {
   "cell_type": "code",
   "execution_count": null,
   "metadata": {},
   "outputs": [],
   "source": [
    "# enumerate data\n",
    "examples = []\n",
    "embeddings = []\n",
    "\n",
    "for entity, data in entity_metadata.items():\n",
    "    for example in data['examples']:\n",
    "        examples.append(example)\n",
    "        embeddings.append(example['embedding'])\n",
    "\n",
    "X = np.array(embeddings)"
   ]
  },
  {
   "cell_type": "code",
   "execution_count": 62,
   "metadata": {},
   "outputs": [],
   "source": [
    "# Fit the k-NN model\n",
    "knn = NearestNeighbors(n_neighbors=3, metric='cosine')\n",
    "knn.fit(X)\n",
    "\n",
    "def get_top_k_examples(query, k=3):\n",
    "    query_vec = get_embedding(query)\n",
    "    \n",
    "    distances, indices = knn.kneighbors(np.array([query_vec]), n_neighbors=k)\n",
    "    top_k_examples = [examples[idx] for idx in indices.flatten()]\n",
    "    \n",
    "    return top_k_examples\n",
    "\n",
    "# Example query\n",
    "query = \"I enjoy riding my bike.\"\n",
    "top_k_examples = get_top_k_examples(query, k=3)"
   ]
  },
  {
   "cell_type": "code",
   "execution_count": 63,
   "metadata": {},
   "outputs": [
    {
     "name": "stdout",
     "output_type": "stream",
     "text": [
      "Every morning, I enjoy cycling through the park to start my day.\n",
      "Cycling is becoming more popular on urban pavements.\n",
      "He bought a new motorcycle to feel the thrill of speed.\n"
     ]
    }
   ],
   "source": [
    "for item in top_k_examples:\n",
    "    print(item['sentence'])"
   ]
  },
  {
   "cell_type": "code",
   "execution_count": 68,
   "metadata": {},
   "outputs": [
    {
     "data": {
      "text/plain": [
       "'Every morning, I enjoy cycling through the park to start my day.'"
      ]
     },
     "execution_count": 68,
     "metadata": {},
     "output_type": "execute_result"
    }
   ],
   "source": [
    "top_k_examples[0]['text']"
   ]
  },
  {
   "cell_type": "code",
   "execution_count": null,
   "metadata": {},
   "outputs": [],
   "source": []
  },
  {
   "cell_type": "markdown",
   "metadata": {},
   "source": [
    "## Guidelines update from errors"
   ]
  },
  {
   "cell_type": "code",
   "execution_count": null,
   "metadata": {},
   "outputs": [],
   "source": [
    "erroneous_examples = ... # from manual correction"
   ]
  },
  {
   "cell_type": "code",
   "execution_count": 71,
   "metadata": {},
   "outputs": [
    {
     "name": "stdout",
     "output_type": "stream",
     "text": [
      "\n",
      "    Entity: air_transport\n",
      "    Original Guidelines: Entities to be labelled as 'air_transport' should include vehicles that are designed for air travel and serve the primary purpose of transporting people or goods. This includes aircraft like airliners, jets, helicopters, drones, gliders, and balloons when used as transport vessels. \n",
      "\n",
      "Avoid labelling the following as 'air_transport':\n",
      "1. Airships and hot air balloons when used predominantly for recreational purposes or as static installations.\n",
      "2. Fictional or allegorical flying objects or creatures (e.g., flying carpets or dragons) as they do not serve the actual purpose of transportation.\n",
      "3. Components or infrastructure related to air travel but not vehicles themselves, like airports, runways, or air traffic control systems.\n",
      "4. Entities without an explicit mention or implication of transportation intent or capability, even if they might belong to the realm of aeronautics, such as parachutes or kites.\n",
      "\n",
      "Potential pitfalls include confusing vehicles that offer similar experiences (like sightseeing versus actual transport) or utility (e.g., aerial robotics for photography versus drones for delivery). Always consider the context—if the primary function of the entity within the sentence is to transport or signal the ability to transport through the air, it should be labelled as 'air_transport'.\n",
      "    \n",
      "    Here are some erroneous examples, where items were incorrectly labeled as \"air_transport\":\n",
      "    The car drove down the highway. {'air_transport': ['car']}\n",
      "\n",
      "The boat sailed across the lake. {'air_transport': ['boat']}\n",
      "    \n",
      "    Based on these erroneous examples, please provide additions to guidelines (they will be added to the original guidelines) to help avoid these mistakes in the future.\n",
      "    \n",
      "    Output in JSON format: {\"Additions\": \"\"}.\n",
      "    \n",
      "\n",
      "{'Additions': \"To avoid mislabeling non-air-related vehicles as 'air_transport,' ensure that the context distinctly involves air travel or air-based transportation capabilities. Review the sentence to confirm the vehicle in question operates in the air and serves a transport function. Pay attention to distinguishing between vehicles operating on land or water versus those in the air, and ensure the context supports a transport role in airspace.\"}\n"
     ]
    }
   ],
   "source": [
    "def generate_guideline_additions(entity, erroneous_examples, original_guidelines):\n",
    "    erroneous_examples_text = '\\n\\n'.join([f\"{example['text']} {str(example['entities'])}\" for example in erroneous_examples])\n",
    "    \n",
    "    prompt = f\"\"\"\n",
    "    Entity: {entity}\n",
    "    Original Guidelines: {original_guidelines}\n",
    "    \n",
    "    Here are some erroneous examples, where items were incorrectly labeled as \"{entity}\":\n",
    "    {erroneous_examples_text}\n",
    "    \n",
    "    Based on these erroneous examples, please provide additions to guidelines (they will be added to the original guidelines) to help avoid these mistakes in the future.\n",
    "    \n",
    "    Output in JSON format: {{\"Additions\": \"\"}}.\n",
    "    \"\"\"\n",
    "    \n",
    "    print(prompt)\n",
    "    \n",
    "    response = run_query(system_prompt, prompt, response_type=\"json_object\")\n",
    "    return response\n",
    "\n",
    "# Example usage\n",
    "entity = 'air_transport'\n",
    "erroneous_examples = [\n",
    "    {'text': 'The car drove down the highway.', 'entities': {'air_transport': ['car']}},\n",
    "    {'text': 'The boat sailed across the lake.', 'entities': {'air_transport': ['boat']}},\n",
    "]\n",
    "original_guidelines = entity_metadata[entity]['guidelines']\n",
    "\n",
    "additions = generate_guideline_additions(entity, erroneous_examples, original_guidelines)\n",
    "print()\n",
    "print(additions)"
   ]
  },
  {
   "cell_type": "markdown",
   "metadata": {},
   "source": [
    "# Details"
   ]
  },
  {
   "cell_type": "code",
   "execution_count": 3,
   "metadata": {},
   "outputs": [
    {
     "name": "stdout",
     "output_type": "stream",
     "text": [
      "Label / All ratio: 60 / 161\n"
     ]
    }
   ],
   "source": [
    "# manually annotated stats\n",
    "\n",
    "import json\n",
    "import os\n",
    "\n",
    "labels = []\n",
    "count_labels = 0\n",
    "\n",
    "for filename in os.listdir(\"../data/labels_manual\"):\n",
    "    if not filename.endswith(\".json\"): continue\n",
    "    \n",
    "    with open(f\"../data/labels_manual/{filename}\") as f:\n",
    "        label = json.load(f)\n",
    "        \n",
    "    labels.append(label)\n",
    "    if sum([len(v) for v in label.values()]):\n",
    "        count_labels += 1\n",
    "\n",
    "print(f\"Label / All ratio: {count_labels} / {len(labels)}\")"
   ]
  },
  {
   "cell_type": "code",
   "execution_count": 4,
   "metadata": {},
   "outputs": [
    {
     "data": {
      "text/plain": [
       "{'human-powered': ['walked',\n",
       "  'walk',\n",
       "  'walk',\n",
       "  'walk',\n",
       "  'walking',\n",
       "  'walk',\n",
       "  'walkin',\n",
       "  'Running',\n",
       "  'walk',\n",
       "  'run',\n",
       "  'run',\n",
       "  'run',\n",
       "  'walking',\n",
       "  'walk',\n",
       "  'my bike',\n",
       "  'running',\n",
       "  'walk',\n",
       "  'my legs'],\n",
       " 'animal-powered': [],\n",
       " 'railways': ['train', 'long black train'],\n",
       " 'roadways': ['car',\n",
       "  'Camaro',\n",
       "  'Escalade',\n",
       "  'V12',\n",
       "  'school bus',\n",
       "  'Trailer',\n",
       "  'truck',\n",
       "  'car',\n",
       "  'car',\n",
       "  'foreign car',\n",
       "  'that sixty-five',\n",
       "  'Pontiac',\n",
       "  'Mercedes',\n",
       "  'my car',\n",
       "  'engine full of trunk space',\n",
       "  'Rolls',\n",
       "  'motorbike',\n",
       "  'Car',\n",
       "  \"'Rari\",\n",
       "  'Bentley',\n",
       "  'truck',\n",
       "  'truck',\n",
       "  '',\n",
       "  'Cadillac',\n",
       "  'car',\n",
       "  'Harley',\n",
       "  'Ferrari',\n",
       "  'Lamborghinis',\n",
       "  'Hummers',\n",
       "  'Rover',\n",
       "  'Ferrari',\n",
       "  'Honda',\n",
       "  'automobile',\n",
       "  'Jag',\n",
       "  'Cadillac',\n",
       "  'car',\n",
       "  'truck',\n",
       "  'Phantom',\n",
       "  'Ferraris',\n",
       "  'Silverado',\n",
       "  'Z-71',\n",
       "  'Chevrolets',\n",
       "  'truck',\n",
       "  'tractor',\n",
       "  'minivan',\n",
       "  'Scion',\n",
       "  'truck',\n",
       "  \"engine roarin'\",\n",
       "  'Rolls',\n",
       "  'Wraith',\n",
       "  'Maybach',\n",
       "  'Benz',\n",
       "  'Trucks',\n",
       "  'car',\n",
       "  \"'Rari\",\n",
       "  \"Harley's\",\n",
       "  'Rolls truck',\n",
       "  'Mercedes',\n",
       "  'Regal',\n",
       "  'Ferrari',\n",
       "  'Jeep',\n",
       "  'Maybach',\n",
       "  'Bentayga',\n",
       "  'Rolls Royce',\n",
       "  'Jeep',\n",
       "  'car',\n",
       "  'Rolls Royce',\n",
       "  'Range',\n",
       "  'Bentley',\n",
       "  'Phantom',\n",
       "  'Maybach',\n",
       "  'cars'],\n",
       " 'water_transport': ['ship', 'motorboat', 'boat', 'boat'],\n",
       " 'air_transport': ['helicopter Uber',\n",
       "  'rocket',\n",
       "  'airplanes',\n",
       "  'flight',\n",
       "  'caught flights',\n",
       "  'helicopter',\n",
       "  'airplane',\n",
       "  'airplane']}"
      ]
     },
     "execution_count": 4,
     "metadata": {},
     "output_type": "execute_result"
    }
   ],
   "source": [
    "combined_labels = {\n",
    "    'human-powered': [],\n",
    "    'animal-powered': [],\n",
    "    'railways': [],\n",
    "    'roadways': [],\n",
    "    'water_transport': [],\n",
    "    'air_transport': []\n",
    "}\n",
    "\n",
    "for label in labels:\n",
    "    for key, value in label.items():\n",
    "        combined_labels[key].extend(value)\n",
    "\n",
    "combined_labels"
   ]
  },
  {
   "cell_type": "code",
   "execution_count": 7,
   "metadata": {},
   "outputs": [],
   "source": [
    "import matplotlib.pyplot as plt\n",
    "%matplotlib inline"
   ]
  },
  {
   "cell_type": "code",
   "execution_count": 17,
   "metadata": {},
   "outputs": [
    {
     "data": {
      "image/png": "[encoded data removed]",
      "text/plain": [
       "<Figure size 640x480 with 1 Axes>"
      ]
     },
     "metadata": {},
     "output_type": "display_data"
    }
   ],
   "source": [
    "values = {k: v for k, v in sorted(combined_labels.items(), key=lambda item: len(item[1]), reverse=True)}\n",
    "\n",
    "plt.title(\"Manually Annotated Data Distribution\")\n",
    "plt.bar(range(len(values)), list(map(len, values.values())), tick_label=list(values.keys()), align='center')\n",
    "plt.xticks(rotation=45)\n",
    "plt.grid()\n",
    "plt.show()"
   ]
  },
  {
   "cell_type": "code",
   "execution_count": 34,
   "metadata": {},
   "outputs": [
    {
     "data": {
      "image/png": "[encoded data removed]",
      "text/plain": [
       "<Figure size 2000x600 with 1 Axes>"
      ]
     },
     "metadata": {},
     "output_type": "display_data"
    },
    {
     "data": {
      "image/png": "[encoded data removed]",
      "text/plain": [
       "<Figure size 2000x600 with 1 Axes>"
      ]
     },
     "metadata": {},
     "output_type": "display_data"
    },
    {
     "data": {
      "image/png": "[encoded data removed]",
      "text/plain": [
       "<Figure size 2000x600 with 1 Axes>"
      ]
     },
     "metadata": {},
     "output_type": "display_data"
    },
    {
     "data": {
      "image/png": "[encoded data removed]",
      "text/plain": [
       "<Figure size 2000x600 with 1 Axes>"
      ]
     },
     "metadata": {},
     "output_type": "display_data"
    },
    {
     "data": {
      "image/png": "[encoded data removed]",
      "text/plain": [
       "<Figure size 2000x600 with 1 Axes>"
      ]
     },
     "metadata": {},
     "output_type": "display_data"
    }
   ],
   "source": [
    "from collections import Counter\n",
    "\n",
    "for i, (entity, values) in enumerate(combined_labels.items()):\n",
    "    if not values: continue\n",
    "    \n",
    "    values = Counter(combined_labels[entity])\n",
    "    values = {k: v for k, v in sorted(values.items(), key=lambda item: item[1], reverse=True)}\n",
    "    \n",
    "    plt.figure(figsize=(20, 6))\n",
    "    plt.title(f\"'{entity}' Distribution\")\n",
    "    plt.bar(range(len(values)), list(values.values()), tick_label=list(values.keys()), align='center')\n",
    "    plt.xticks(rotation=75)\n",
    "    plt.grid()\n",
    "    plt.show()"
   ]
  },
  {
   "cell_type": "markdown",
   "metadata": {},
   "source": [
    "# Evaluation"
   ]
  },
  {
   "cell_type": "code",
   "execution_count": 30,
   "metadata": {},
   "outputs": [],
   "source": [
    "import os\n",
    "\n",
    "labels = []\n",
    "for filename in os.listdir(\"../data/labels_manual\"):\n",
    "    if not filename.endswith(\".json\"): continue\n",
    "    \n",
    "    with open(f\"../data/labels_manual/{filename}\") as f:\n",
    "        label_ = json.load(f)\n",
    "        \n",
    "    label = dict()\n",
    "    label[\"id\"] = filename.split(\".\")[0]\n",
    "    label[\"entities\"] = label_\n",
    "    \n",
    "    labels.append(label)\n",
    "    \n",
    "with open(\"../data/labels_manual.jsonl\", \"w\") as f:\n",
    "    for label in labels:\n",
    "        f.write(json.dumps(label) + \"\\n\")"
   ]
  },
  {
   "cell_type": "code",
   "execution_count": 31,
   "metadata": {},
   "outputs": [],
   "source": [
    "exp_name = \"random_n3\"\n",
    "with open(f\"../data/labels_automatic/{exp_name}.jsonl\") as f:\n",
    "    labels_automatic = [json.loads(line) for line in f]\n",
    "    \n",
    "labels_automatic_dict = {label[\"id\"]: label[\"entities\"] for label in labels_automatic} "
   ]
  },
  {
   "cell_type": "code",
   "execution_count": 32,
   "metadata": {},
   "outputs": [],
   "source": [
    "with open(\"../data/labels_manual.jsonl\") as f:\n",
    "    labels_manual = [json.loads(line) for line in f]\n",
    "    \n",
    "labels_manual_dict = {label[\"id\"]: label[\"entities\"] for label in labels_manual if label[\"id\"] in labels_automatic_dict}    "
   ]
  },
  {
   "cell_type": "code",
   "execution_count": 66,
   "metadata": {},
   "outputs": [],
   "source": [
    "from collections import Counter\n",
    "\n",
    "def evaluate_ner_macro(true_entities_dict, predicted_entities_dict):\n",
    "    \"\"\"\n",
    "    Evaluates NER performance over multiple examples.\n",
    "    \n",
    "    Each example is represented as a dictionary mapping entity types to lists of entities.\n",
    "    The function aggregates counts for each entity type over all examples and then computes\n",
    "    macro-averaged metrics (i.e. averages the metrics across all entity types).\n",
    "    \n",
    "    Args:\n",
    "        true_entities_list (list of dict): Ground truth for each example.\n",
    "            Example: [{\"PERSON\": [\"Alice\", \"Bob\"], \"LOCATION\": [\"Paris\"]}, ...]\n",
    "        predicted_entities_list (list of dict): Predictions for each example.\n",
    "            Example: [{\"PERSON\": [\"Alice\", \"Charlie\"], \"LOCATION\": [\"Paris\", \"Paris\"]}, ...]\n",
    "    \n",
    "    Returns:\n",
    "        tuple: A tuple (per_entity_results, macro_results) where:\n",
    "            - per_entity_results is a dict mapping each entity type to its computed\n",
    "              Precision, Recall, and F1-score.\n",
    "            - macro_results is a dict with Macro Precision, Macro Recall, and Macro F1-score,\n",
    "              which are the averages over all entity types.\n",
    "    \"\"\"\n",
    "    true_entities_dict = dict(sorted(true_entities_dict.items()))\n",
    "    predicted_entities_dict = dict(sorted(predicted_entities_dict.items()))\n",
    "    \n",
    "    true_entities_list = true_entities_dict.values()\n",
    "    predicted_entities_list = predicted_entities_dict.values()\n",
    "    \n",
    "    assert len(true_entities_list) == len(predicted_entities_list), \"The number of examples must match.\"\n",
    "\n",
    "    # Collect all entity types appearing in any example\n",
    "    entity_types = set()\n",
    "    for true_dict in true_entities_list:\n",
    "        entity_types.update(true_dict.keys())\n",
    "    for pred_dict in predicted_entities_list:\n",
    "        entity_types.update(pred_dict.keys())\n",
    "\n",
    "    # Dictionary to store aggregated counts per entity type\n",
    "    per_entity_counts = {etype: {\"TP\": 0, \"FP\": 0, \"FN\": 0} for etype in entity_types}\n",
    "\n",
    "    # Iterate over all examples and aggregate counts for each entity type\n",
    "    for true_dict, pred_dict in zip(true_entities_list, predicted_entities_list):\n",
    "        for etype in entity_types:\n",
    "            # Get the list of entities for this type; default to empty list if missing.\n",
    "            true_list = true_dict.get(etype, [])\n",
    "            pred_list = pred_dict.get(etype, [])\n",
    "            \n",
    "            # Use Counter to account for duplicates\n",
    "            true_counter = Counter(true_list)\n",
    "            pred_counter = Counter(pred_list)\n",
    "            \n",
    "            # Count true positives: for each entity present in both, add the minimum count\n",
    "            common_entities = set(true_counter.keys()) & set(pred_counter.keys())\n",
    "            TP = sum(min(true_counter[ent], pred_counter[ent]) for ent in common_entities)\n",
    "            \n",
    "            # Count false positives: predicted count minus the matched count for every predicted entity\n",
    "            FP = sum(pred_counter[ent] - min(true_counter.get(ent, 0), pred_counter[ent]) for ent in pred_counter)\n",
    "            \n",
    "            # Count false negatives: true count minus the matched count for every true entity\n",
    "            FN = sum(true_counter[ent] - min(true_counter[ent], pred_counter.get(ent, 0)) for ent in true_counter)\n",
    "            \n",
    "            # Aggregate counts\n",
    "            per_entity_counts[etype][\"TP\"] += TP\n",
    "            per_entity_counts[etype][\"FP\"] += FP\n",
    "            per_entity_counts[etype][\"FN\"] += FN\n",
    "\n",
    "    # Compute precision, recall, and F1 for each entity type\n",
    "    per_entity_results = {}\n",
    "    for etype, counts in per_entity_counts.items():\n",
    "        TP = counts[\"TP\"]\n",
    "        FP = counts[\"FP\"]\n",
    "        FN = counts[\"FN\"]\n",
    "        precision = TP / (TP + FP) if (TP + FP) > 0 else 0.0\n",
    "        recall    = TP / (TP + FN) if (TP + FN) > 0 else 0.0\n",
    "        f1        = (2 * precision * recall) / (precision + recall) if (precision + recall) > 0 else 0.0\n",
    "        per_entity_results[etype] = {\"Precision\": precision, \"Recall\": recall, \"F1\": f1}\n",
    "\n",
    "    # Macro-average: average the metric scores over all entity types\n",
    "    macro_precision = sum(result[\"Precision\"] for result in per_entity_results.values()) / len(entity_types)\n",
    "    macro_recall    = sum(result[\"Recall\"] for result in per_entity_results.values()) / len(entity_types)\n",
    "    macro_f1        = sum(result[\"F1\"] for result in per_entity_results.values()) / len(entity_types)\n",
    "    \n",
    "    macro_results = {\n",
    "        \"Macro Precision\": macro_precision,\n",
    "        \"Macro Recall\": macro_recall,\n",
    "        \"Macro F1\": macro_f1\n",
    "    }\n",
    "    \n",
    "    # Micro-average: aggregate counts over all entity types\n",
    "    total_TP = sum(counts[\"TP\"] for counts in per_entity_counts.values())\n",
    "    total_FP = sum(counts[\"FP\"] for counts in per_entity_counts.values())\n",
    "    total_FN = sum(counts[\"FN\"] for counts in per_entity_counts.values())\n",
    "\n",
    "    micro_precision = total_TP / (total_TP + total_FP) if (total_TP + total_FP) > 0 else 0.0\n",
    "    micro_recall = total_TP / (total_TP + total_FN) if (total_TP + total_FN) > 0 else 0.0\n",
    "    micro_f1 = (2 * micro_precision * micro_recall) / (micro_precision + micro_recall) if (micro_precision + micro_recall) > 0 else 0.0\n",
    "\n",
    "    macro_results[\"Micro Precision\"] = micro_precision\n",
    "    macro_results[\"Micro Recall\"] = micro_recall\n",
    "    macro_results[\"Micro F1\"] = micro_f1\n",
    "    \n",
    "    return per_entity_results, macro_results"
   ]
  },
  {
   "cell_type": "code",
   "execution_count": 46,
   "metadata": {},
   "outputs": [
    {
     "name": "stdout",
     "output_type": "stream",
     "text": [
      "#Beautiful_Mariah Carey\n",
      "-----------------------\n",
      "{'human-powered': ['bike'], 'animal-powered': [], 'railways': [], 'roadways': [], 'water_transport': [], 'air_transport': []}\n",
      "{'human-powered': ['bike'], 'animal-powered': [], 'railways': [], 'roadways': [], 'water_transport': [], 'air_transport': []}\n",
      "\n",
      "#thatPower_will\n",
      "---------------\n",
      "{'human-powered': [], 'animal-powered': [], 'railways': [], 'roadways': [], 'water_transport': [], 'air_transport': []}\n",
      "{'human-powered': [], 'animal-powered': [], 'railways': [], 'roadways': [], 'water_transport': [], 'air_transport': []}\n",
      "\n",
      "'Til You Can't_Cody Johnson\n",
      "---------------------------\n",
      "{'human-powered': [], 'animal-powered': [], 'railways': [], 'roadways': ['that sixty-five', 'Pontiac'], 'water_transport': [], 'air_transport': []}\n",
      "{'human-powered': [], 'animal-powered': [], 'railways': [], 'roadways': [], 'water_transport': [], 'air_transport': []}\n",
      "\n",
      "1-800-273-8255_Logic\n",
      "--------------------\n",
      "{'human-powered': [], 'animal-powered': [], 'railways': [], 'roadways': [], 'water_transport': [], 'air_transport': []}\n",
      "{'human-powered': [], 'animal-powered': [], 'railways': [], 'roadways': [], 'water_transport': [], 'air_transport': []}\n",
      "\n",
      "2 On_Tinashe\n",
      "------------\n",
      "{'human-powered': [], 'animal-powered': [], 'railways': [], 'roadways': ['car'], 'water_transport': [], 'air_transport': []}\n",
      "{'human-powered': [], 'animal-powered': [], 'railways': [], 'roadways': ['car'], 'water_transport': [], 'air_transport': []}\n",
      "\n"
     ]
    }
   ],
   "source": [
    "for item in dict(sorted(labels_manual_dict.items())).keys():\n",
    "    manual = labels_manual_dict[item]\n",
    "    automatic = labels_automatic_dict[item]\n",
    "    \n",
    "    print(item)\n",
    "    print('-' * len(item))\n",
    "    print(manual)\n",
    "    print(automatic)\n",
    "    print()"
   ]
  },
  {
   "cell_type": "code",
   "execution_count": 67,
   "metadata": {},
   "outputs": [
    {
     "name": "stdout",
     "output_type": "stream",
     "text": [
      "Per Entity Type Metrics:\n",
      "  human-powered: {'Precision': 1.0, 'Recall': 1.0, 'F1': 1.0}\n",
      "  air_transport: {'Precision': 0.0, 'Recall': 0.0, 'F1': 0.0}\n",
      "  animal-powered: {'Precision': 0.0, 'Recall': 0.0, 'F1': 0.0}\n",
      "  water_transport: {'Precision': 0.0, 'Recall': 0.0, 'F1': 0.0}\n",
      "  railways: {'Precision': 0.0, 'Recall': 0.0, 'F1': 0.0}\n",
      "  roadways: {'Precision': 1.0, 'Recall': 0.3333333333333333, 'F1': 0.5}\n",
      "\n",
      "Macro-Averaged Metrics:\n",
      "  Macro Precision: 0.3333\n",
      "  Macro Recall: 0.2222\n",
      "  Macro F1: 0.2500\n",
      "  Micro Precision: 1.0000\n",
      "  Micro Recall: 0.5000\n",
      "  Micro F1: 0.6667\n"
     ]
    }
   ],
   "source": [
    "per_entity_results, macro_results = evaluate_ner_macro(labels_manual_dict, labels_automatic_dict)\n",
    "\n",
    "print(\"Per Entity Type Metrics:\")\n",
    "for etype, metrics in per_entity_results.items():\n",
    "    print(f\"  {etype}: {metrics}\")\n",
    "\n",
    "print(\"\\nAveraged Metrics:\")\n",
    "for metric, value in macro_results.items():\n",
    "    print(f\"  {metric}: {value:.4f}\")"
   ]
  },
  {
   "cell_type": "markdown",
   "metadata": {},
   "source": [
    "# Error Analysis"
   ]
  },
  {
   "cell_type": "code",
   "execution_count": 34,
   "metadata": {},
   "outputs": [],
   "source": [
    "import json\n",
    "from itertools import chain\n",
    "\n",
    "methods = [\n",
    "    \"knn_n3_scn1\",\n",
    "    \"random_n3_scn5_pt_ns\"\n",
    "]\n",
    "\n",
    "fps = []\n",
    "fns = []\n",
    "\n",
    "for method in methods:\n",
    "    with open(f\"../data/analysis/errors/{method}_fp.json\") as f:\n",
    "        fp = json.load(f)\n",
    "    with open(f\"../data/analysis/errors/{method}_fn.json\") as f:\n",
    "        fn = json.load(f)\n",
    "        \n",
    "    if isinstance(fp, dict):\n",
    "        fp = list(chain(*list(fp.values())))\n",
    "    if isinstance(fn, dict):\n",
    "        fn = list(chain(*list(fn.values())))\n",
    "        \n",
    "    fps.append(fp)\n",
    "    fns.append(fn)"
   ]
  },
  {
   "cell_type": "code",
   "execution_count": null,
   "metadata": {},
   "outputs": [],
   "source": [
    "with open(\"../data/entity_metadata.json\") as f:\n",
    "    entity_metadata = json.load(f)\n",
    "    \n",
    "def get_entity_vocab(entity_metadata):\n",
    "    entity_vocab = {}\n",
    "    for entity in entity_metadata:\n",
    "        entity_vocab[entity] = entity_metadata[entity][\"items\"]\n",
    "    \n",
    "    return entity_vocab\n",
    "\n",
    "entity_vocab = get_entity_vocab(entity_metadata)"
   ]
  },
  {
   "cell_type": "code",
   "execution_count": 46,
   "metadata": {},
   "outputs": [],
   "source": [
    "from collections import defaultdict, Counter\n",
    "\n",
    "fp_dicts = []\n",
    "\n",
    "for fp in fps:\n",
    "    fp_dict = defaultdict(list)\n",
    "\n",
    "    for item in fp:\n",
    "        fp_dict[item['entity']].extend(\n",
    "            list(set(list(map(str.lower, item['pred']))) - set(list(map(str.lower, item['true']))))\n",
    "        )\n",
    "\n",
    "    fp_dicts.append(fp_dict)"
   ]
  },
  {
   "cell_type": "code",
   "execution_count": 62,
   "metadata": {},
   "outputs": [],
   "source": [
    "fn_dicts = []\n",
    "\n",
    "for fn in fns:\n",
    "    fn_dict = defaultdict(list)\n",
    "\n",
    "    for item in fn:\n",
    "        fn_dict[item['entity']].extend(\n",
    "            list(set(list(map(str.lower, item['true']))) - set(list(map(str.lower, item['pred']))))\n",
    "        )\n",
    "\n",
    "    fn_dicts.append(fn_dict)"
   ]
  },
  {
   "cell_type": "code",
   "execution_count": 48,
   "metadata": {},
   "outputs": [
    {
     "data": {
      "text/plain": [
       "(dict_keys(['air_transport', 'roadways', 'water_transport']),\n",
       " dict_keys(['roadways', 'railways', 'air_transport', 'animal-powered', 'human-powered', 'water_transport']))"
      ]
     },
     "execution_count": 48,
     "metadata": {},
     "output_type": "execute_result"
    }
   ],
   "source": [
    "fp_dicts[0].keys(), fp_dicts[1].keys()"
   ]
  },
  {
   "cell_type": "code",
   "execution_count": 49,
   "metadata": {},
   "outputs": [
    {
     "name": "stdout",
     "output_type": "stream",
     "text": [
      "air_transport: {'helicopter', 'glider'}\n",
      "roadways: {'motorcycle'}\n",
      "water_transport: set()\n",
      "--------------------------------------------------\n",
      "roadways: {'motorcycle'}\n",
      "railways: set()\n",
      "air_transport: {'helicopter', 'airplane'}\n",
      "animal-powered: set()\n",
      "human-powered: set()\n",
      "water_transport: set()\n",
      "--------------------------------------------------\n"
     ]
    }
   ],
   "source": [
    "for fp_dict in fp_dicts:\n",
    "    for entity_type in fp_dict.keys():\n",
    "        print(f\"{entity_type}:\", set(fp_dict[entity_type]) & set(entity_vocab[entity_type]))\n",
    "        \n",
    "    print('-'*50)"
   ]
  },
  {
   "cell_type": "code",
   "execution_count": 50,
   "metadata": {},
   "outputs": [
    {
     "data": {
      "text/plain": [
       "(dict_keys(['roadways', 'human-powered', 'air_transport', 'water_transport']),\n",
       " dict_keys(['roadways', 'air_transport', 'human-powered', 'water_transport', 'railways']))"
      ]
     },
     "execution_count": 50,
     "metadata": {},
     "output_type": "execute_result"
    }
   ],
   "source": [
    "fn_dicts[0].keys(), fn_dicts[1].keys()"
   ]
  },
  {
   "cell_type": "code",
   "execution_count": 63,
   "metadata": {},
   "outputs": [
    {
     "name": "stdout",
     "output_type": "stream",
     "text": [
      "roadways: {'truck'}\n",
      "human-powered: set()\n",
      "air_transport: {'airplane'}\n",
      "water_transport: set()\n",
      "--------------------------------------------------\n",
      "roadways: {'truck'}\n",
      "air_transport: set()\n",
      "human-powered: set()\n",
      "water_transport: set()\n",
      "railways: set()\n",
      "--------------------------------------------------\n"
     ]
    }
   ],
   "source": [
    "for fn_dict in fn_dicts:\n",
    "    for entity_type in fn_dict.keys():\n",
    "        print(f\"{entity_type}:\", set(fn_dict[entity_type]) & set(entity_vocab[entity_type]))\n",
    "        \n",
    "    print('-'*50)"
   ]
  },
  {
   "cell_type": "code",
   "execution_count": 59,
   "metadata": {},
   "outputs": [
    {
     "data": {
      "text/plain": [
       "defaultdict(list,\n",
       "            {'air_transport': ['glider',\n",
       "              'tailspun airplane',\n",
       "              'helicopter',\n",
       "              'flight',\n",
       "              'private plane',\n",
       "              'flights',\n",
       "              'private jet'],\n",
       "             'roadways': ['the road',\n",
       "              'john deere',\n",
       "              'dead-end highway',\n",
       "              'two-lane road',\n",
       "              'fast cars',\n",
       "              'trailer park truck stop',\n",
       "              'doublewide quick stop',\n",
       "              'motorcycles',\n",
       "              'motorcycle',\n",
       "              'motorcycle',\n",
       "              'vehicle',\n",
       "              'new coupe',\n",
       "              'back seat of my car',\n",
       "              'ghost',\n",
       "              'harley',\n",
       "              'bitch',\n",
       "              'cadillac',\n",
       "              'red taillights',\n",
       "              'lyft',\n",
       "              'tessie',\n",
       "              'g',\n",
       "              'tesla',\n",
       "              'road',\n",
       "              'highway',\n",
       "              'back road',\n",
       "              'downtown streets'],\n",
       "             'water_transport': [\"surfin'\"]})"
      ]
     },
     "execution_count": 59,
     "metadata": {},
     "output_type": "execute_result"
    }
   ],
   "source": [
    "fp_dicts[0]"
   ]
  },
  {
   "cell_type": "code",
   "execution_count": 58,
   "metadata": {},
   "outputs": [
    {
     "data": {
      "text/plain": [
       "defaultdict(list,\n",
       "            {'roadways': ['road',\n",
       "              'roads',\n",
       "              'highway',\n",
       "              'road rage',\n",
       "              'fast cars',\n",
       "              'road',\n",
       "              'truck stop',\n",
       "              'motorcycles',\n",
       "              'cadillac',\n",
       "              'road',\n",
       "              'motorcycle',\n",
       "              'back road'],\n",
       "             'railways': ['train'],\n",
       "             'air_transport': ['airplane',\n",
       "              'helicopter',\n",
       "              'private plane',\n",
       "              'flights'],\n",
       "             'animal-powered': ['animal'],\n",
       "             'human-powered': ['pedal bike'],\n",
       "             'water_transport': ['40 hp johnson']})"
      ]
     },
     "execution_count": 58,
     "metadata": {},
     "output_type": "execute_result"
    }
   ],
   "source": [
    "fp_dicts[1]"
   ]
  },
  {
   "cell_type": "code",
   "execution_count": null,
   "metadata": {},
   "outputs": [],
   "source": []
  },
  {
   "cell_type": "code",
   "execution_count": 68,
   "metadata": {},
   "outputs": [
    {
     "data": {
      "text/plain": [
       "[{'entity': 'roadways', 'true': ['that sixty-five', 'Pontiac'], 'pred': []},\n",
       " {'entity': 'roadways', 'true': ['Ferrari', 'Honda'], 'pred': []},\n",
       " {'entity': 'air_transport', 'true': ['rocket'], 'pred': []},\n",
       " {'entity': 'human-powered', 'true': ['walk'], 'pred': []},\n",
       " {'entity': 'roadways', 'true': ['truck', ''], 'pred': ['truck', 'roads']},\n",
       " {'entity': 'roadways', 'true': ['minivan', 'Scion'], 'pred': []},\n",
       " {'entity': 'human-powered', 'true': ['walk'], 'pred': []},\n",
       " {'entity': 'human-powered', 'true': ['walk'], 'pred': []},\n",
       " {'entity': 'water_transport', 'true': ['ship'], 'pred': []},\n",
       " {'entity': 'human-powered', 'true': ['walkin'], 'pred': []},\n",
       " {'entity': 'human-powered', 'true': ['walk'], 'pred': []},\n",
       " {'entity': 'human-powered', 'true': ['walk'], 'pred': []},\n",
       " {'entity': 'human-powered', 'true': ['running'], 'pred': []},\n",
       " {'entity': 'railways', 'true': ['long black train'], 'pred': ['train']},\n",
       " {'entity': 'roadways',\n",
       "  'true': ['Silverado', 'Z-71', 'Chevrolets'],\n",
       "  'pred': ['Silverado']},\n",
       " {'entity': 'air_transport',\n",
       "  'true': ['airplanes', 'flight'],\n",
       "  'pred': ['airplane', 'Airplanes']},\n",
       " {'entity': 'roadways', 'true': ['Rolls Royce'], 'pred': []},\n",
       " {'entity': 'human-powered', 'true': ['Running'], 'pred': []},\n",
       " {'entity': 'roadways', 'true': ['car'], 'pred': []},\n",
       " {'entity': 'roadways', 'true': ['cars'], 'pred': ['Fast cars']},\n",
       " {'entity': 'air_transport',\n",
       "  'true': ['helicopter Uber'],\n",
       "  'pred': ['helicopter']},\n",
       " {'entity': 'roadways', 'true': ['V12'], 'pred': []},\n",
       " {'entity': 'human-powered', 'true': ['walking'], 'pred': []},\n",
       " {'entity': 'roadways',\n",
       "  'true': ['school bus', 'Trailer', 'truck'],\n",
       "  'pred': ['truck stop', 'school bus']},\n",
       " {'entity': 'roadways',\n",
       "  'true': ['automobile', 'Jag'],\n",
       "  'pred': ['motorcycles', 'automobile']},\n",
       " {'entity': 'human-powered', 'true': ['run'], 'pred': []},\n",
       " {'entity': 'human-powered', 'true': ['run'], 'pred': []},\n",
       " {'entity': 'human-powered', 'true': ['walked'], 'pred': []},\n",
       " {'entity': 'roadways', 'true': ['Mercedes'], 'pred': []},\n",
       " {'entity': 'water_transport', 'true': ['motorboat'], 'pred': []},\n",
       " {'entity': 'roadways',\n",
       "  'true': ['engine full of trunk space', 'Rolls', 'motorbike', 'Car'],\n",
       "  'pred': []},\n",
       " {'entity': 'air_transport',\n",
       "  'true': ['caught flights', 'helicopter'],\n",
       "  'pred': ['private plane', 'flights', 'helicopter']},\n",
       " {'entity': 'human-powered', 'true': ['walk'], 'pred': []},\n",
       " {'entity': 'roadways', 'true': ['car'], 'pred': []},\n",
       " {'entity': 'human-powered', 'true': ['walk'], 'pred': []},\n",
       " {'entity': 'roadways',\n",
       "  'true': ['Jeep', 'Maybach', 'Bentayga', 'Rolls Royce'],\n",
       "  'pred': ['Jeep']},\n",
       " {'entity': 'roadways', 'true': ['car', \"'Rari\", \"Harley's\"], 'pred': []},\n",
       " {'entity': 'roadways', 'true': ['Ferrari'], 'pred': []},\n",
       " {'entity': 'roadways',\n",
       "  'true': [\"'Rari\", 'Bentley', 'truck'],\n",
       "  'pred': ['Bentley', \"'Rari\"]},\n",
       " {'entity': 'roadways', 'true': ['Rolls truck'], 'pred': []},\n",
       " {'entity': 'human-powered', 'true': ['walking'], 'pred': ['pedal bike']},\n",
       " {'entity': 'human-powered', 'true': ['run'], 'pred': []},\n",
       " {'entity': 'roadways', 'true': ['Trucks'], 'pred': []},\n",
       " {'entity': 'roadways', 'true': ['Phantom', 'Ferraris'], 'pred': []},\n",
       " {'entity': 'roadways', 'true': ['car'], 'pred': []},\n",
       " {'entity': 'roadways', 'true': ['Maybach'], 'pred': []},\n",
       " {'entity': 'roadways',\n",
       "  'true': ['Range', 'Bentley', 'Phantom', 'Maybach'],\n",
       "  'pred': []},\n",
       " {'entity': 'roadways', 'true': ['Mercedes'], 'pred': []},\n",
       " {'entity': 'roadways', 'true': ['foreign car'], 'pred': []},\n",
       " {'entity': 'roadways', 'true': ['Regal'], 'pred': []},\n",
       " {'entity': 'roadways', 'true': [\"engine roarin'\"], 'pred': []},\n",
       " {'entity': 'roadways', 'true': ['Rolls', 'Wraith'], 'pred': ['motorcycle']},\n",
       " {'entity': 'water_transport', 'true': ['boat'], 'pred': []},\n",
       " {'entity': 'roadways', 'true': ['Benz'], 'pred': []}]"
      ]
     },
     "execution_count": 68,
     "metadata": {},
     "output_type": "execute_result"
    }
   ],
   "source": [
    "fns[1]"
   ]
  },
  {
   "cell_type": "code",
   "execution_count": 65,
   "metadata": {},
   "outputs": [
    {
     "data": {
      "text/plain": [
       "defaultdict(list,\n",
       "            {'roadways': ['pontiac',\n",
       "              'that sixty-five',\n",
       "              'ferrari',\n",
       "              'honda',\n",
       "              '',\n",
       "              'scion',\n",
       "              'minivan',\n",
       "              'z-71',\n",
       "              'chevrolets',\n",
       "              'rolls royce',\n",
       "              'car',\n",
       "              'cars',\n",
       "              'v12',\n",
       "              'truck',\n",
       "              'trailer',\n",
       "              'jag',\n",
       "              'mercedes',\n",
       "              'rolls',\n",
       "              'engine full of trunk space',\n",
       "              'car',\n",
       "              'motorbike',\n",
       "              'car',\n",
       "              'maybach',\n",
       "              'rolls royce',\n",
       "              'bentayga',\n",
       "              \"'rari\",\n",
       "              'car',\n",
       "              \"harley's\",\n",
       "              'ferrari',\n",
       "              'truck',\n",
       "              'rolls truck',\n",
       "              'trucks',\n",
       "              'phantom',\n",
       "              'ferraris',\n",
       "              'car',\n",
       "              'maybach',\n",
       "              'range',\n",
       "              'maybach',\n",
       "              'phantom',\n",
       "              'bentley',\n",
       "              'mercedes',\n",
       "              'foreign car',\n",
       "              'regal',\n",
       "              \"engine roarin'\",\n",
       "              'rolls',\n",
       "              'wraith',\n",
       "              'benz'],\n",
       "             'air_transport': ['rocket',\n",
       "              'flight',\n",
       "              'helicopter uber',\n",
       "              'caught flights'],\n",
       "             'human-powered': ['walk',\n",
       "              'walk',\n",
       "              'walk',\n",
       "              'walkin',\n",
       "              'walk',\n",
       "              'walk',\n",
       "              'running',\n",
       "              'running',\n",
       "              'walking',\n",
       "              'run',\n",
       "              'run',\n",
       "              'walked',\n",
       "              'walk',\n",
       "              'walk',\n",
       "              'walking',\n",
       "              'run'],\n",
       "             'water_transport': ['ship', 'motorboat', 'boat'],\n",
       "             'railways': ['long black train']})"
      ]
     },
     "execution_count": 65,
     "metadata": {},
     "output_type": "execute_result"
    }
   ],
   "source": [
    "fn_dicts[1]"
   ]
  },
  {
   "cell_type": "code",
   "execution_count": null,
   "metadata": {},
   "outputs": [],
   "source": []
  }
 ],
 "metadata": {
  "kernelspec": {
   "display_name": "mobility",
   "language": "python",
   "name": "python3"
  },
  "language_info": {
   "codemirror_mode": {
    "name": "ipython",
    "version": 3
   },
   "file_extension": ".py",
   "mimetype": "text/x-python",
   "name": "python",
   "nbconvert_exporter": "python",
   "pygments_lexer": "ipython3",
   "version": "3.10.15"
  }
 },
 "nbformat": 4,
 "nbformat_minor": 2
}
