{
 "cells": [
  {
   "cell_type": "markdown",
   "metadata": {},
   "source": [
    "# Data Collection"
   ]
  },
  {
   "cell_type": "markdown",
   "metadata": {},
   "source": [
    "### Charts\n",
    "\n",
    "- [acharts.co](https://acharts.co/) (different countries, per week)\n",
    "- [swisscharts.com](http://swisscharts.com/charts/singles/) (swiss charts, per week)\n",
    "- [ct30.com](http://www.ct30.com/) (community created, end-year, international top-100)\n",
    "- [Wikipedia](https://en.wikipedia.org/wiki/Billboard_Year-End_Hot_100_singles_of_2020) (archived data from billboard.com)\n",
    "- [Generasia](https://www.generasia.com/wiki/Category:Rankings) (open asian charts)\n",
    "- [mediatraffic.de](http://www.mediatraffic.de/previous.htm) (per week / end-year international charts)"
   ]
  },
  {
   "cell_type": "code",
   "execution_count": 5,
   "metadata": {},
   "outputs": [
    {
     "data": {
      "text/html": [
       "<div>\n",
       "<style scoped>\n",
       "    .dataframe tbody tr th:only-of-type {\n",
       "        vertical-align: middle;\n",
       "    }\n",
       "\n",
       "    .dataframe tbody tr th {\n",
       "        vertical-align: top;\n",
       "    }\n",
       "\n",
       "    .dataframe thead th {\n",
       "        text-align: right;\n",
       "    }\n",
       "</style>\n",
       "<table border=\"1\" class=\"dataframe\">\n",
       "  <thead>\n",
       "    <tr style=\"text-align: right;\">\n",
       "      <th></th>\n",
       "      <th>place</th>\n",
       "      <th>title</th>\n",
       "      <th>artist</th>\n",
       "      <th>year</th>\n",
       "    </tr>\n",
       "  </thead>\n",
       "  <tbody>\n",
       "    <tr>\n",
       "      <th>0</th>\n",
       "      <td>1</td>\n",
       "      <td>Tik Tok</td>\n",
       "      <td>Kesha</td>\n",
       "      <td>2010</td>\n",
       "    </tr>\n",
       "    <tr>\n",
       "      <th>1</th>\n",
       "      <td>2</td>\n",
       "      <td>Need You Now</td>\n",
       "      <td>Lady Antebellum</td>\n",
       "      <td>2010</td>\n",
       "    </tr>\n",
       "    <tr>\n",
       "      <th>2</th>\n",
       "      <td>3</td>\n",
       "      <td>Hey, Soul Sister</td>\n",
       "      <td>Train</td>\n",
       "      <td>2010</td>\n",
       "    </tr>\n",
       "    <tr>\n",
       "      <th>3</th>\n",
       "      <td>4</td>\n",
       "      <td>California Gurls</td>\n",
       "      <td>Katy Perry</td>\n",
       "      <td>2010</td>\n",
       "    </tr>\n",
       "    <tr>\n",
       "      <th>4</th>\n",
       "      <td>5</td>\n",
       "      <td>OMG</td>\n",
       "      <td>Usher</td>\n",
       "      <td>2010</td>\n",
       "    </tr>\n",
       "  </tbody>\n",
       "</table>\n",
       "</div>"
      ],
      "text/plain": [
       "   place             title           artist  year\n",
       "0      1           Tik Tok            Kesha  2010\n",
       "1      2      Need You Now  Lady Antebellum  2010\n",
       "2      3  Hey, Soul Sister            Train  2010\n",
       "3      4  California Gurls       Katy Perry  2010\n",
       "4      5               OMG            Usher  2010"
      ]
     },
     "execution_count": 5,
     "metadata": {},
     "output_type": "execute_result"
    }
   ],
   "source": [
    "import pandas as pd\n",
    "\n",
    "df = pd.read_csv('../data/billboard_2010_2024.csv')\n",
    "df.head()"
   ]
  },
  {
   "cell_type": "markdown",
   "metadata": {},
   "source": [
    "#### Wikipedia"
   ]
  },
  {
   "cell_type": "code",
   "execution_count": 21,
   "metadata": {},
   "outputs": [],
   "source": [
    "import requests\n",
    "from bs4 import BeautifulSoup\n",
    "import pandas as pd"
   ]
  },
  {
   "cell_type": "code",
   "execution_count": 54,
   "metadata": {},
   "outputs": [],
   "source": [
    "url = \"https://en.wikipedia.org/wiki/Billboard_Year-End_Hot_100_singles_of_{year}\"\n",
    "\n",
    "items_per_year = dict()\n",
    "\n",
    "for year in range(2010, 2025):\n",
    "    res = requests.get(url.format(year=year))\n",
    "    soup = BeautifulSoup(res.text, \"html.parser\")\n",
    "\n",
    "    items_raw = soup.find(\"table\", {\"class\": \"wikitable\"}).tbody.find_all(\"tr\")[1:]\n",
    "    \n",
    "    items = []\n",
    "    \n",
    "    for x in items_raw:\n",
    "        parts = x.find_all(\"td\")\n",
    "        if len(parts) == 3:\n",
    "            place = parts[0].text\n",
    "            title = parts[1].a.text\n",
    "            artist = parts[2].a.text\n",
    "        else:\n",
    "            place = parts[0].text\n",
    "            title = parts[1].a.text\n",
    "            \n",
    "        items.append({\"place\": int(place.strip()), \"title\": title, \"artist\": artist})\n",
    "    \n",
    "    items_per_year[year] = items"
   ]
  },
  {
   "cell_type": "code",
   "execution_count": 55,
   "metadata": {},
   "outputs": [
    {
     "data": {
      "text/html": [
       "<div>\n",
       "<style scoped>\n",
       "    .dataframe tbody tr th:only-of-type {\n",
       "        vertical-align: middle;\n",
       "    }\n",
       "\n",
       "    .dataframe tbody tr th {\n",
       "        vertical-align: top;\n",
       "    }\n",
       "\n",
       "    .dataframe thead th {\n",
       "        text-align: right;\n",
       "    }\n",
       "</style>\n",
       "<table border=\"1\" class=\"dataframe\">\n",
       "  <thead>\n",
       "    <tr style=\"text-align: right;\">\n",
       "      <th></th>\n",
       "      <th>place</th>\n",
       "      <th>title</th>\n",
       "      <th>artist</th>\n",
       "      <th>year</th>\n",
       "    </tr>\n",
       "  </thead>\n",
       "  <tbody>\n",
       "    <tr>\n",
       "      <th>0</th>\n",
       "      <td>1</td>\n",
       "      <td>Tik Tok</td>\n",
       "      <td>Kesha</td>\n",
       "      <td>2010</td>\n",
       "    </tr>\n",
       "    <tr>\n",
       "      <th>1</th>\n",
       "      <td>2</td>\n",
       "      <td>Need You Now</td>\n",
       "      <td>Lady Antebellum</td>\n",
       "      <td>2010</td>\n",
       "    </tr>\n",
       "    <tr>\n",
       "      <th>2</th>\n",
       "      <td>3</td>\n",
       "      <td>Hey, Soul Sister</td>\n",
       "      <td>Train</td>\n",
       "      <td>2010</td>\n",
       "    </tr>\n",
       "    <tr>\n",
       "      <th>3</th>\n",
       "      <td>4</td>\n",
       "      <td>California Gurls</td>\n",
       "      <td>Katy Perry</td>\n",
       "      <td>2010</td>\n",
       "    </tr>\n",
       "    <tr>\n",
       "      <th>4</th>\n",
       "      <td>5</td>\n",
       "      <td>OMG</td>\n",
       "      <td>Usher</td>\n",
       "      <td>2010</td>\n",
       "    </tr>\n",
       "    <tr>\n",
       "      <th>...</th>\n",
       "      <td>...</td>\n",
       "      <td>...</td>\n",
       "      <td>...</td>\n",
       "      <td>...</td>\n",
       "    </tr>\n",
       "    <tr>\n",
       "      <th>1495</th>\n",
       "      <td>96</td>\n",
       "      <td>Bulletproof</td>\n",
       "      <td>Nate Smith</td>\n",
       "      <td>2024</td>\n",
       "    </tr>\n",
       "    <tr>\n",
       "      <th>1496</th>\n",
       "      <td>97</td>\n",
       "      <td>Fe!n</td>\n",
       "      <td>Travis Scott</td>\n",
       "      <td>2024</td>\n",
       "    </tr>\n",
       "    <tr>\n",
       "      <th>1497</th>\n",
       "      <td>98</td>\n",
       "      <td>The Painter</td>\n",
       "      <td>Cody Johnson</td>\n",
       "      <td>2024</td>\n",
       "    </tr>\n",
       "    <tr>\n",
       "      <th>1498</th>\n",
       "      <td>99</td>\n",
       "      <td>Down Bad</td>\n",
       "      <td>Taylor Swift</td>\n",
       "      <td>2024</td>\n",
       "    </tr>\n",
       "    <tr>\n",
       "      <th>1499</th>\n",
       "      <td>100</td>\n",
       "      <td>Dance the Night</td>\n",
       "      <td>Dua Lipa</td>\n",
       "      <td>2024</td>\n",
       "    </tr>\n",
       "  </tbody>\n",
       "</table>\n",
       "<p>1500 rows × 4 columns</p>\n",
       "</div>"
      ],
      "text/plain": [
       "      place             title           artist  year\n",
       "0         1           Tik Tok            Kesha  2010\n",
       "1         2      Need You Now  Lady Antebellum  2010\n",
       "2         3  Hey, Soul Sister            Train  2010\n",
       "3         4  California Gurls       Katy Perry  2010\n",
       "4         5               OMG            Usher  2010\n",
       "...     ...               ...              ...   ...\n",
       "1495     96       Bulletproof       Nate Smith  2024\n",
       "1496     97              Fe!n     Travis Scott  2024\n",
       "1497     98       The Painter     Cody Johnson  2024\n",
       "1498     99          Down Bad     Taylor Swift  2024\n",
       "1499    100   Dance the Night         Dua Lipa  2024\n",
       "\n",
       "[1500 rows x 4 columns]"
      ]
     },
     "execution_count": 55,
     "metadata": {},
     "output_type": "execute_result"
    }
   ],
   "source": [
    "df_general = pd.DataFrame()\n",
    "\n",
    "# Create a DataFrame from the dictionary\n",
    "for year, items in items_per_year.items():\n",
    "    df_year = pd.DataFrame(items)\n",
    "\n",
    "    # Add the year column\n",
    "    df_year['year'] = year\n",
    "\n",
    "    # Append the new DataFrame to the general DataFrame\n",
    "    df_general = pd.concat([df_general, df_year], ignore_index=True)\n",
    "\n",
    "df_general"
   ]
  },
  {
   "cell_type": "code",
   "execution_count": 56,
   "metadata": {},
   "outputs": [],
   "source": [
    "df_general.to_csv(\"../data/billboard_2010_2024.csv\", index=False)"
   ]
  },
  {
   "cell_type": "markdown",
   "metadata": {},
   "source": [
    "### Lyrics\n",
    "\n",
    "- [AZlyrics](https://www.azlyrics.com/)\n",
    "- [LyricsFind](https://lyrics.lyricfind.com/)\n",
    "- [Genius API](https://docs.genius.com/)\n",
    "- [Lyrics.com API](https://www.lyrics.com/lyrics_api.php)\n",
    "- [MLDB.org](https://www.mldb.org/) (limited data)"
   ]
  },
  {
   "cell_type": "markdown",
   "metadata": {},
   "source": [
    "#### AZlyrics"
   ]
  },
  {
   "cell_type": "code",
   "execution_count": 43,
   "metadata": {},
   "outputs": [
    {
     "name": "stdout",
     "output_type": "stream",
     "text": [
      "Collecting azapi\n",
      "  Downloading azapi-3.0.8-py3-none-any.whl.metadata (4.6 kB)\n",
      "Requirement already satisfied: requests in /Users/artempris/miniconda3/envs/mobility/lib/python3.10/site-packages (from azapi) (2.32.3)\n",
      "Collecting bs4 (from azapi)\n",
      "  Downloading bs4-0.0.2-py2.py3-none-any.whl.metadata (411 bytes)\n",
      "Requirement already satisfied: beautifulsoup4 in /Users/artempris/miniconda3/envs/mobility/lib/python3.10/site-packages (from bs4->azapi) (4.12.3)\n",
      "Requirement already satisfied: charset-normalizer<4,>=2 in /Users/artempris/miniconda3/envs/mobility/lib/python3.10/site-packages (from requests->azapi) (3.4.0)\n",
      "Requirement already satisfied: idna<4,>=2.5 in /Users/artempris/miniconda3/envs/mobility/lib/python3.10/site-packages (from requests->azapi) (3.10)\n",
      "Requirement already satisfied: urllib3<3,>=1.21.1 in /Users/artempris/miniconda3/envs/mobility/lib/python3.10/site-packages (from requests->azapi) (2.2.3)\n",
      "Requirement already satisfied: certifi>=2017.4.17 in /Users/artempris/miniconda3/envs/mobility/lib/python3.10/site-packages (from requests->azapi) (2024.8.30)\n",
      "Requirement already satisfied: soupsieve>1.2 in /Users/artempris/miniconda3/envs/mobility/lib/python3.10/site-packages (from beautifulsoup4->bs4->azapi) (2.6)\n",
      "Downloading azapi-3.0.8-py3-none-any.whl (20 kB)\n",
      "Downloading bs4-0.0.2-py2.py3-none-any.whl (1.2 kB)\n",
      "Installing collected packages: bs4, azapi\n",
      "Successfully installed azapi-3.0.8 bs4-0.0.2\n"
     ]
    }
   ],
   "source": [
    "!pip install azapi"
   ]
  },
  {
   "cell_type": "code",
   "execution_count": null,
   "metadata": {},
   "outputs": [
    {
     "name": "stdout",
     "output_type": "stream",
     "text": [
      "Google found nothing!\n",
      "\n"
     ]
    }
   ],
   "source": [
    "import azapi\n",
    "\n",
    "API = azapi.AZlyrics()"
   ]
  },
  {
   "cell_type": "code",
   "execution_count": null,
   "metadata": {},
   "outputs": [],
   "source": []
  },
  {
   "cell_type": "code",
   "execution_count": 69,
   "metadata": {},
   "outputs": [
    {
     "ename": "KeyboardInterrupt",
     "evalue": "",
     "output_type": "error",
     "traceback": [
      "\u001b[0;31m---------------------------------------------------------------------------\u001b[0m",
      "\u001b[0;31mKeyboardInterrupt\u001b[0m                         Traceback (most recent call last)",
      "Cell \u001b[0;32mIn[69], line 5\u001b[0m\n\u001b[1;32m      2\u001b[0m API\u001b[38;5;241m.\u001b[39martist \u001b[38;5;241m=\u001b[39m song[\u001b[38;5;124m\"\u001b[39m\u001b[38;5;124martist\u001b[39m\u001b[38;5;124m\"\u001b[39m]\n\u001b[1;32m      3\u001b[0m API\u001b[38;5;241m.\u001b[39mtitle \u001b[38;5;241m=\u001b[39m song[\u001b[38;5;124m\"\u001b[39m\u001b[38;5;124mtitle\u001b[39m\u001b[38;5;124m\"\u001b[39m]\n\u001b[0;32m----> 5\u001b[0m \u001b[43mAPI\u001b[49m\u001b[38;5;241;43m.\u001b[39;49m\u001b[43mgetLyrics\u001b[49m\u001b[43m(\u001b[49m\u001b[43m)\u001b[49m\n\u001b[1;32m      7\u001b[0m \u001b[38;5;28mprint\u001b[39m(API\u001b[38;5;241m.\u001b[39mlyrics)\n",
      "File \u001b[0;32m~/miniconda3/envs/mobility/lib/python3.10/site-packages/azapi/azapi.py:46\u001b[0m, in \u001b[0;36mAZlyrics.getLyrics\u001b[0;34m(self, url, ext, save, path, sleep)\u001b[0m\n\u001b[1;32m     32\u001b[0m \u001b[38;5;250m\u001b[39m\u001b[38;5;124;03m\"\"\"\u001b[39;00m\n\u001b[1;32m     33\u001b[0m \u001b[38;5;124;03mReterive Lyrics for a given song details\u001b[39;00m\n\u001b[1;32m     34\u001b[0m \u001b[38;5;124;03m\u001b[39;00m\n\u001b[0;32m   (...)\u001b[0m\n\u001b[1;32m     42\u001b[0m \u001b[38;5;124;03m    lyrics (str): Lyrics of the detected song\u001b[39;00m\n\u001b[1;32m     43\u001b[0m \u001b[38;5;124;03m\"\"\"\u001b[39;00m\n\u001b[1;32m     45\u001b[0m \u001b[38;5;66;03m# Best cooldown is 5 sec\u001b[39;00m\n\u001b[0;32m---> 46\u001b[0m \u001b[43mtime\u001b[49m\u001b[38;5;241;43m.\u001b[39;49m\u001b[43msleep\u001b[49m\u001b[43m(\u001b[49m\u001b[43msleep\u001b[49m\u001b[43m)\u001b[49m\n\u001b[1;32m     48\u001b[0m link \u001b[38;5;241m=\u001b[39m url\n\u001b[1;32m     50\u001b[0m \u001b[38;5;28;01mif\u001b[39;00m \u001b[38;5;129;01mnot\u001b[39;00m url:\n\u001b[1;32m     51\u001b[0m     \u001b[38;5;66;03m# v3.0.5: No need for artist and title if url is found\u001b[39;00m\n",
      "\u001b[0;31mKeyboardInterrupt\u001b[0m: "
     ]
    }
   ],
   "source": [
    "for song in items_per_year[2013]:\n",
    "    API.artist = song[\"artist\"]\n",
    "    API.title = song[\"title\"]\n",
    "    \n",
    "    API.getLyrics()\n",
    "\n",
    "    print(API.lyrics)"
   ]
  },
  {
   "cell_type": "markdown",
   "metadata": {},
   "source": [
    "#### Genius"
   ]
  },
  {
   "cell_type": "code",
   "execution_count": 8,
   "metadata": {},
   "outputs": [
    {
     "name": "stdout",
     "output_type": "stream",
     "text": [
      "Collecting git+https://github.com/johnwmillr/LyricsGenius.git\n",
      "  Cloning https://github.com/johnwmillr/LyricsGenius.git to /private/var/folders/db/z1j0x3f51c56c00nhhmhl7qw0000gn/T/pip-req-build-nextf_jh\n",
      "  Running command git clone --filter=blob:none --quiet https://github.com/johnwmillr/LyricsGenius.git /private/var/folders/db/z1j0x3f51c56c00nhhmhl7qw0000gn/T/pip-req-build-nextf_jh\n",
      "  Resolved https://github.com/johnwmillr/LyricsGenius.git to commit 7635cff7af35bfa5b6e8ec36ca6921faf7014cc3\n",
      "  Preparing metadata (setup.py) ... \u001b[?25ldone\n",
      "\u001b[?25hRequirement already satisfied: beautifulsoup4>=4.6.0 in /Users/artempris/miniconda3/envs/mobility/lib/python3.10/site-packages (from lyricsgenius==3.2.0) (4.12.3)\n",
      "Requirement already satisfied: requests>=2.20.0 in /Users/artempris/miniconda3/envs/mobility/lib/python3.10/site-packages (from lyricsgenius==3.2.0) (2.32.3)\n",
      "Requirement already satisfied: soupsieve>1.2 in /Users/artempris/miniconda3/envs/mobility/lib/python3.10/site-packages (from beautifulsoup4>=4.6.0->lyricsgenius==3.2.0) (2.6)\n",
      "Requirement already satisfied: charset-normalizer<4,>=2 in /Users/artempris/miniconda3/envs/mobility/lib/python3.10/site-packages (from requests>=2.20.0->lyricsgenius==3.2.0) (3.4.0)\n",
      "Requirement already satisfied: idna<4,>=2.5 in /Users/artempris/miniconda3/envs/mobility/lib/python3.10/site-packages (from requests>=2.20.0->lyricsgenius==3.2.0) (3.10)\n",
      "Requirement already satisfied: urllib3<3,>=1.21.1 in /Users/artempris/miniconda3/envs/mobility/lib/python3.10/site-packages (from requests>=2.20.0->lyricsgenius==3.2.0) (2.2.3)\n",
      "Requirement already satisfied: certifi>=2017.4.17 in /Users/artempris/miniconda3/envs/mobility/lib/python3.10/site-packages (from requests>=2.20.0->lyricsgenius==3.2.0) (2024.8.30)\n",
      "Building wheels for collected packages: lyricsgenius\n",
      "  Building wheel for lyricsgenius (setup.py) ... \u001b[?25ldone\n",
      "\u001b[?25h  Created wheel for lyricsgenius: filename=lyricsgenius-3.2.0-py3-none-any.whl size=45052 sha256=c123ff1f05c80178b70977246eee50f74c3f3d4bb68007f7ffc5d0ea9ea53e72\n",
      "  Stored in directory: /private/var/folders/db/z1j0x3f51c56c00nhhmhl7qw0000gn/T/pip-ephem-wheel-cache-2bn57vvd/wheels/a2/6d/80/1297c611c6dc8bd51f83121a1e209257591bc9a0486bd2e279\n",
      "Successfully built lyricsgenius\n",
      "Installing collected packages: lyricsgenius\n",
      "Successfully installed lyricsgenius-3.2.0\n"
     ]
    }
   ],
   "source": [
    "!pip install git+https://github.com/johnwmillr/LyricsGenius.git"
   ]
  },
  {
   "cell_type": "code",
   "execution_count": null,
   "metadata": {},
   "outputs": [],
   "source": [
    "!pip install tqdm"
   ]
  },
  {
   "cell_type": "code",
   "execution_count": 1,
   "metadata": {},
   "outputs": [],
   "source": [
    "import lyricsgenius\n",
    "import os\n",
    "from tqdm.notebook import tqdm\n",
    "\n",
    "genius = lyricsgenius.Genius()"
   ]
  },
  {
   "cell_type": "code",
   "execution_count": 2,
   "metadata": {},
   "outputs": [
    {
     "name": "stdout",
     "output_type": "stream",
     "text": [
      "Searching for \"Thrift Shop\" by Macklemore & Ryan Lewis...\n",
      "Done.\n"
     ]
    },
    {
     "data": {
      "text/plain": [
       "'[Intro]\\nHey, Macklemore, can we go thrift shopping?\\nWhat-what, what, what?\\nWhat-what, what, what?\\nWhat-what, what, what?\\nWhat-what, what, what? (Da)\\nWhat-what, what, what? (Da-dum, ba-dum, ba-da-do-da)\\nWhat-what, what, what? (Da-dum, ba-dum, ba-da-do-da)\\nWhat-what, what, what? (Da-dum, ba-dum, ba-da-do-da)\\nWhat-what, what, what? (Da-dum, ba-dum, ba-da-do-da)\\nDa-dum, ba-dum, ba-da-do-da\\nDa-dum, ba-dum, ba-da-do-da\\nDa-dum, ba-dum, ba-da-do-da\\nDa-dum, ba-dum, ba-da-do-da\\n[Chorus: Wanz & Macklemore]\\nI\\'m gonna pop some tags\\nOnly got twenty dollars in my pocket\\nI\\'m, I\\'m, I\\'m huntin\\', lookin\\' for a come up\\nThis is fucking awesome (Now)\\n\\n[Verse 1: Macklemore]\\nWalk into the club like, \"What up? I got a big cock\"\\nNah, I\\'m just pumped, I bought some shit from a thrift shop\\nIce on the fringe is so damn frosty\\nThe people like, \"Damn, that\\'s a cold-ass honkey\"\\nRollin\\' in hella deep, headed to the mezzanine\\nDressed in all pink \\'cept my gator shoes, those are green\\nDraped in a leopard mink, girl standin\\' next to me\\nProbably should\\'ve washed this, smells like R. Kelly sheets\\nPiss\\nBut shit, it was ninety-nine cents (Bag it)\\nCoppin\\' it, washin\\' it, \\'bout to go and get some compliments\\nPassin\\' up on those moccasins someone else has been walkin\\' in\\nBummy and grungy, fuck it, man, I am stunting and flossin\\'\\nAnd saving my money and I\\'m hella happy, that\\'s a bargain, bitch\\nI\\'ma take your grandpa\\'s style, I\\'ma take your grandpa\\'s style\\nNo, for real, ask your grandpa, can I have his hand-me-downs? (Thank you)\\nVelour jumpsuit and some house slippers\\nDookie-brown leather jacket that I found diggin\\'\\nThey had a broken keyboard, I bought a broken keyboard\\nI bought a skeet blanket, then I bought a knee board\\nHello, hello, my ace man, my mellow\\nJohn Wayne ain\\'t got nothing on my fringe game, hell no\\nI could take some Pro Wings, make \\'em cool, sell those\\nThe sneaker heads would be like, \"Ah, he got the Velcros\"\\n\\n[Chorus: Wanz]\\nI\\'m gonna pop some tags\\nOnly got twenty dollars in my pocket\\nI\\'m, I\\'m, I\\'m huntin\\', lookin\\' for a come up\\nThis is fucking awesome\\nI\\'m gonna pop some tags\\nOnly got twenty dollars in my pocket\\nI\\'m, I\\'m, I\\'m huntin\\', lookin\\' for a come up\\nThis is fucking awesome\\n\\n[Verse 2: Macklemore]\\nWhat you know about rockin\\' a wolf on your noggin?\\nWhat you knowin\\' about wearin\\' a fur fox skin?\\nI\\'m diggin\\', I\\'m diggin\\', I\\'m searchin\\' right through that luggage\\nOne man\\'s trash, that\\'s another man\\'s come up\\nThank your granddad for donatin\\' that plaid button-\\nUp shirt \\'cause right now, I\\'m up in here stuntin\\'\\nI\\'m at the Goodwill, you can find me in the bins\\nI\\'m not, I\\'m not stuck on searchin\\' in that section (Men\\'s)\\nYour grammy, your auntie, your mama, your mammy\\nI\\'ll take those flannel zebra jammies second hand and rock that, motherfucker\\nThe built-in onesie with the socks on the motherfucker\\nI hit the party and they stop in that motherfucker\\nThey be like, \"Oh, that Gucci? That\\'s hella tight\"\\nI\\'m like, \"Yo, that\\'s fifty dollars for a T-shirt\"\\nLimited edition, let\\'s do some simple addition\\nFifty dollars for a T-shirt, that\\'s just some ignorant bitch shit\\nI call that getting-swindled-and-pimped shit\\nI call that getting tricked by business\\nThat shirt\\'s hella dope\\nAnd having the same one as six other people in this club is a hella don\\'t\\nPeep game, come take a look through my telescope\\nTryna get girls from a brand? Man, you hella won\\'t\\nMan, you hella won\\'t\\nGoodwill\\nPoppin\\' tags, yeah\\n\\n[Chorus: Wanz]\\nI\\'m gonna pop some tags\\nOnly got twenty dollars in my pocket\\nI\\'m, I\\'m, I\\'m huntin\\', lookin\\' for a come up\\nThis is fucking awesome\\n\\n[Bridge: Wanz]\\nI\\'ll wear your granddad\\'s clothes\\nI look incredible\\nI\\'m in this big-ass coat\\nFrom that thrift shop down the road\\nI\\'ll wear your granddad\\'s clothes (Damn right)\\nI look incredible (Now come on, man)\\nI\\'m in this big-ass coat (Big-ass coat)\\nFrom that thrift shop down the road (Let\\'s go, come on)\\n\\n[Chorus: Wanz]\\nI\\'m gonna pop some tags\\nOnly got twenty dollars in my pocket\\nI\\'m, I\\'m, I\\'m huntin\\', lookin\\' for a come up\\nThis is fucking awesome\\n\\n[Outro]\\nHahaha\\nIs that your grandma\\'s coat?'"
      ]
     },
     "execution_count": 2,
     "metadata": {},
     "output_type": "execute_result"
    }
   ],
   "source": [
    "song = genius.search_song(\"Thrift Shop\", \"Macklemore & Ryan Lewis\")\n",
    "song.lyrics"
   ]
  },
  {
   "cell_type": "code",
   "execution_count": null,
   "metadata": {},
   "outputs": [],
   "source": []
  },
  {
   "cell_type": "code",
   "execution_count": 4,
   "metadata": {},
   "outputs": [
    {
     "name": "stdout",
     "output_type": "stream",
     "text": [
      "Searching for \"Can't Hold Us\" by Macklemore & Ryan Lewis...\n",
      "Specified song does not contain lyrics. Rejecting.\n"
     ]
    },
    {
     "ename": "AttributeError",
     "evalue": "'NoneType' object has no attribute 'lyrics'",
     "output_type": "error",
     "traceback": [
      "\u001b[0;31m---------------------------------------------------------------------------\u001b[0m",
      "\u001b[0;31mAttributeError\u001b[0m                            Traceback (most recent call last)",
      "Cell \u001b[0;32mIn[4], line 3\u001b[0m\n\u001b[1;32m      1\u001b[0m \u001b[38;5;66;03m# process None values\u001b[39;00m\n\u001b[1;32m      2\u001b[0m song \u001b[38;5;241m=\u001b[39m genius\u001b[38;5;241m.\u001b[39msearch_song(\u001b[38;5;124m\"\u001b[39m\u001b[38;5;124mCan\u001b[39m\u001b[38;5;124m'\u001b[39m\u001b[38;5;124mt Hold Us\u001b[39m\u001b[38;5;124m\"\u001b[39m, \u001b[38;5;124m\"\u001b[39m\u001b[38;5;124mMacklemore & Ryan Lewis\u001b[39m\u001b[38;5;124m\"\u001b[39m)\n\u001b[0;32m----> 3\u001b[0m \u001b[43msong\u001b[49m\u001b[38;5;241;43m.\u001b[39;49m\u001b[43mlyrics\u001b[49m\n",
      "\u001b[0;31mAttributeError\u001b[0m: 'NoneType' object has no attribute 'lyrics'"
     ]
    }
   ],
   "source": [
    "# process None values\n",
    "song = genius.search_song(\"Can't Hold Us\", \"Macklemore & Ryan Lewis\")\n",
    "song.lyrics"
   ]
  },
  {
   "cell_type": "code",
   "execution_count": 6,
   "metadata": {},
   "outputs": [
    {
     "data": {
      "application/vnd.jupyter.widget-view+json": {
       "model_id": "c3616b8068f34279a7cc4daa2469dfd3",
       "version_major": 2,
       "version_minor": 0
      },
      "text/plain": [
       "Songs, year 2024:   0%|          | 0/100 [00:00<?, ?it/s]"
      ]
     },
     "metadata": {},
     "output_type": "display_data"
    },
    {
     "name": "stdout",
     "output_type": "stream",
     "text": [
      "Searching for \"Lose Control\" by Teddy Swims...\n",
      "Done.\n",
      "Searching for \"A Bar Song (Tipsy)\" by Shaboozey...\n",
      "Done.\n",
      "Searching for \"Beautiful Things\" by Benson Boone...\n",
      "Done.\n",
      "Searching for \"I Had Some Help\" by Post Malone...\n",
      "Done.\n",
      "Searching for \"Lovin on Me\" by Jack Harlow...\n",
      "Done.\n",
      "Searching for \"Not Like Us\" by Kendrick Lamar...\n",
      "Done.\n",
      "Searching for \"Espresso\" by Sabrina Carpenter...\n",
      "Done.\n",
      "Searching for \"Million Dollar Baby\" by Tommy Richman...\n",
      "Done.\n",
      "Searching for \"I Remember Everything\" by Zach Bryan...\n",
      "Done.\n",
      "Searching for \"Too Sweet\" by Hozier...\n",
      "Done.\n",
      "Searching for \"Stick Season\" by Noah Kahan...\n",
      "Done.\n",
      "Searching for \"Cruel Summer\" by Taylor Swift...\n",
      "Done.\n",
      "Searching for \"Greedy\" by Tate McRae...\n",
      "Done.\n",
      "Searching for \"Like That\" by Future...\n",
      "Done.\n",
      "Searching for \"Birds of a Feather\" by Billie Eilish...\n",
      "Done.\n",
      "Searching for \"Please Please Please\" by Sabrina Carpenter...\n",
      "Done.\n",
      "Searching for \"Agora Hills\" by Doja Cat...\n",
      "Done.\n",
      "Searching for \"Good Luck, Babe!\" by Chappell Roan...\n",
      "Done.\n",
      "Searching for \"Saturn\" by SZA...\n",
      "Done.\n",
      "Searching for \"Snooze\" by SZA...\n",
      "Done.\n",
      "Searching for \"Paint the Town Red\" by Doja Cat...\n",
      "Done.\n",
      "Searching for \"Fortnight\" by Taylor Swift...\n",
      "Done.\n",
      "Searching for \"Fast Car\" by Luke Combs...\n",
      "Done.\n",
      "Searching for \"Water\" by Tyla...\n",
      "Done.\n",
      "Searching for \"Feather\" by Sabrina Carpenter...\n",
      "Done.\n",
      "Searching for \"We Can't Be Friends (Wait for Your Love)\" by Ariana Grande...\n",
      "Done.\n",
      "Searching for \"Austin\" by Dasha...\n",
      "Done.\n",
      "Searching for \"Last Night\" by Morgan Wallen...\n",
      "Done.\n",
      "Searching for \"Cowgirls\" by Morgan Wallen...\n",
      "Done.\n",
      "Searching for \"Pink Skies\" by Zach Bryan...\n",
      "Done.\n",
      "Searching for \"Thinkin' Bout Me\" by Morgan Wallen...\n",
      "Done.\n",
      "Searching for \"Texas Hold 'Em\" by Beyoncé...\n",
      "Done.\n",
      "Searching for \"Is It Over Now?\" by Taylor Swift...\n",
      "Done.\n",
      "Searching for \"Miles on It\" by Marshmello...\n",
      "Done.\n",
      "Searching for \"I Can Do It with a Broken Heart\" by Taylor Swift...\n",
      "Done.\n",
      "Searching for \"Wild Ones\" by Jessie Murph...\n",
      "Done.\n",
      "Searching for \"Ain't No Love in Oklahoma\" by Luke Combs...\n",
      "Done.\n",
      "Searching for \"Carnival\" by ¥$...\n",
      "Done.\n",
      "Searching for \"Houdini\" by Eminem...\n",
      "Done.\n",
      "Searching for \"Wanna Be\" by GloRilla...\n",
      "Done.\n",
      "Searching for \"Slow It Down\" by Benson Boone...\n",
      "Done.\n",
      "Searching for \"Redrum\" by 21 Savage...\n",
      "Done.\n",
      "Searching for \"Houdini\" by Dua Lipa...\n",
      "Done.\n",
      "Searching for \"Yeah Glo!\" by GloRilla...\n",
      "Done.\n",
      "Searching for \"Rich Baby Daddy\" by Drake...\n",
      "Done.\n",
      "Searching for \"What Was I Made For?\" by Billie Eilish...\n",
      "Done.\n",
      "Searching for \"End of Beginning\" by Djo...\n",
      "Done.\n",
      "Searching for \"Lunch\" by Billie Eilish...\n",
      "Done.\n",
      "Searching for \"Never Lose Me\" by Flo Milli...\n",
      "Done.\n",
      "Searching for \"Lies Lies Lies\" by Morgan Wallen...\n",
      "Done.\n",
      "Searching for \"Type Shit\" by Future...\n",
      "Done.\n",
      "Searching for \"Gata Only\" by FloyyMenor...\n",
      "Done.\n",
      "Searching for \"Hot to Go!\" by Chappell Roan...\n",
      "Done.\n",
      "Searching for \"All I Want for Christmas Is You\" by Mariah Carey...\n",
      "Error with All I Want for Christmas Is You by Mariah Carey\n",
      "Searching for \"Get It Sexyy\" by Sexyy Red...\n",
      "Done.\n",
      "Searching for \"Made for Me\" by Muni Long...\n",
      "Done.\n",
      "Searching for \"Vampire\" by Olivia Rodrigo...\n",
      "Done.\n",
      "Searching for \"Whatever She Wants\" by Bryson Tiller...\n",
      "Done.\n",
      "Searching for \"Rockin' Around the Christmas Tree\" by Brenda Lee...\n",
      "Done.\n",
      "Searching for \"Pretty Little Poison\" by Warren Zeiders...\n",
      "Done.\n",
      "Searching for \"First Person Shooter\" by Drake...\n",
      "Done.\n",
      "Searching for \"Die with a Smile\" by Lady Gaga...\n",
      "Done.\n",
      "Searching for \"I Like the Way You Kiss Me\" by Artemas...\n",
      "Done.\n",
      "Searching for \"Need a Favor\" by Jelly Roll...\n",
      "Done.\n",
      "Searching for \"Save Me\" by Jelly Roll...\n",
      "Done.\n",
      "Searching for \"Euphoria\" by Kendrick Lamar...\n",
      "Done.\n",
      "Searching for \"Truck Bed\" by Hardy...\n",
      "Done.\n",
      "Searching for \"Jingle Bell Rock\" by Bobby Helms...\n",
      "Error with Jingle Bell Rock by Bobby Helms\n",
      "Searching for \"Flowers\" by Miley Cyrus...\n",
      "Done.\n",
      "Searching for \"Where the Wild Things Are\" by Luke Combs...\n",
      "Done.\n",
      "Searching for \"Everybody\" by Nicki Minaj...\n",
      "Done.\n",
      "Searching for \"La Diabla\" by Xavi...\n",
      "Done.\n",
      "Searching for \"Stargazing\" by Myles Smith...\n",
      "Done.\n",
      "Searching for \"Last Christmas\" by Wham!...\n",
      "Error with Last Christmas by Wham!\n",
      "Searching for \"I Am Not Okay\" by Jelly Roll...\n",
      "Done.\n",
      "Searching for \"Pour Me a Drink\" by Post Malone...\n",
      "Done.\n",
      "Searching for \"White Horse\" by Chris Stapleton...\n",
      "Done.\n",
      "Searching for \"Lil Boo Thang\" by Paul Russell...\n",
      "Done.\n",
      "Searching for \"Good Good\" by Usher...\n",
      "Done.\n",
      "Searching for \"Act II: Date @ 8\" by 4Batz...\n",
      "Done.\n",
      "Searching for \"High Road\" by Koe Wetzel...\n",
      "Done.\n",
      "Searching for \"Monaco\" by Bad Bunny...\n",
      "Done.\n",
      "Searching for \"IDGAF\" by Drake...\n",
      "Done.\n",
      "Searching for \"Burn It Down\" by Parker McCollum...\n",
      "Done.\n",
      "Searching for \"FukUMean\" by Gunna...\n",
      "Done.\n",
      "Searching for \"Taste\" by Sabrina Carpenter...\n",
      "Done.\n",
      "Searching for \"Where It Ends\" by Bailey Zimmerman...\n",
      "Done.\n",
      "Searching for \"FTCU\" by Nicki Minaj...\n",
      "Done.\n",
      "Searching for \"Wildflower\" by Billie Eilish...\n",
      "Done.\n",
      "Searching for \"World on Fire\" by Nate Smith...\n",
      "Done.\n",
      "Searching for \"On My Mama\" by Victoria Monét...\n",
      "Done.\n",
      "Searching for \"Yes, And?\" by Ariana Grande...\n",
      "Done.\n",
      "Searching for \"Exes\" by Tate McRae...\n",
      "Done.\n",
      "Searching for \"A Holly Jolly Christmas\" by Burl Ives...\n",
      "Done.\n",
      "Searching for \"Wind Up Missin' You\" by Tucker Wetmore...\n",
      "Done.\n",
      "Searching for \"Bulletproof\" by Nate Smith...\n",
      "Done.\n",
      "Searching for \"Fe!n\" by Travis Scott...\n",
      "Done.\n",
      "Searching for \"The Painter\" by Cody Johnson...\n",
      "Done.\n",
      "Searching for \"Down Bad\" by Taylor Swift...\n",
      "Done.\n",
      "Searching for \"Dance the Night\" by Dua Lipa...\n",
      "Done.\n"
     ]
    }
   ],
   "source": [
    "from IPython.display import clear_output\n",
    "\n",
    "lyrics_per_year = dict()\n",
    "processed_years = set([2013]    )\n",
    "\n",
    "for year in tqdm(range(2010, 2025), \"Years\"):\n",
    "    if year in processed_years:\n",
    "        continue\n",
    "\n",
    "    lyrics = []\n",
    "    \n",
    "    clear_output()\n",
    "    \n",
    "    for song in tqdm(df[df.year == year].to_dict(orient=\"records\"), f\"Songs, year {year}\"):\n",
    "        try:\n",
    "            song_genius = genius.search_song(song[\"title\"], song[\"artist\"])\n",
    "            lyrics.append(song_genius.lyrics)\n",
    "            \n",
    "            if not os.path.exists(f\"../data/lyrics/{song['title']}_{song['artist']}.txt\"):\n",
    "                with open(f\"../data/lyrics/{song['title']}_{song['artist']}.txt\", \"w\") as f:\n",
    "                    f.write(song_genius.lyrics)\n",
    "        except:\n",
    "            print(f\"Error with {song['title']} by {song['artist']}\")\n",
    "            lyrics.append(None)\n",
    "            \n",
    "    lyrics_per_year[year] = lyrics"
   ]
  },
  {
   "cell_type": "code",
   "execution_count": null,
   "metadata": {},
   "outputs": [],
   "source": []
  },
  {
   "cell_type": "code",
   "execution_count": null,
   "metadata": {},
   "outputs": [],
   "source": [
    "for year, lyrics in lyrics_per_year.items():\n",
    "    df.loc[df.year == year, \"lyrics\"] = lyrics"
   ]
  },
  {
   "cell_type": "code",
   "execution_count": null,
   "metadata": {},
   "outputs": [],
   "source": [
    "df.lyrics.isna().sum()"
   ]
  },
  {
   "cell_type": "code",
   "execution_count": 37,
   "metadata": {},
   "outputs": [
    {
     "data": {
      "text/html": [
       "<div>\n",
       "<style scoped>\n",
       "    .dataframe tbody tr th:only-of-type {\n",
       "        vertical-align: middle;\n",
       "    }\n",
       "\n",
       "    .dataframe tbody tr th {\n",
       "        vertical-align: top;\n",
       "    }\n",
       "\n",
       "    .dataframe thead th {\n",
       "        text-align: right;\n",
       "    }\n",
       "</style>\n",
       "<table border=\"1\" class=\"dataframe\">\n",
       "  <thead>\n",
       "    <tr style=\"text-align: right;\">\n",
       "      <th></th>\n",
       "      <th>place</th>\n",
       "      <th>title</th>\n",
       "      <th>artist</th>\n",
       "      <th>year</th>\n",
       "      <th>lyrics</th>\n",
       "    </tr>\n",
       "  </thead>\n",
       "  <tbody>\n",
       "    <tr>\n",
       "      <th>300</th>\n",
       "      <td>1</td>\n",
       "      <td>Thrift Shop</td>\n",
       "      <td>Macklemore &amp; Ryan Lewis</td>\n",
       "      <td>2013</td>\n",
       "      <td>[Intro]\\nHey, Macklemore, can we go thrift sho...</td>\n",
       "    </tr>\n",
       "    <tr>\n",
       "      <th>301</th>\n",
       "      <td>2</td>\n",
       "      <td>Blurred Lines</td>\n",
       "      <td>Robin Thicke</td>\n",
       "      <td>2013</td>\n",
       "      <td>[Intro: Pharrell Williams &amp; Robin Thicke]\\nEve...</td>\n",
       "    </tr>\n",
       "    <tr>\n",
       "      <th>302</th>\n",
       "      <td>3</td>\n",
       "      <td>Radioactive</td>\n",
       "      <td>Imagine Dragons</td>\n",
       "      <td>2013</td>\n",
       "      <td>None</td>\n",
       "    </tr>\n",
       "    <tr>\n",
       "      <th>303</th>\n",
       "      <td>4</td>\n",
       "      <td>Harlem Shake</td>\n",
       "      <td>Baauer</td>\n",
       "      <td>2013</td>\n",
       "      <td>[Pre-Chorus]\\nCon los terroristas, -tas, -tas,...</td>\n",
       "    </tr>\n",
       "    <tr>\n",
       "      <th>304</th>\n",
       "      <td>5</td>\n",
       "      <td>Can't Hold Us</td>\n",
       "      <td>Macklemore &amp; Ryan Lewis</td>\n",
       "      <td>2013</td>\n",
       "      <td>None</td>\n",
       "    </tr>\n",
       "    <tr>\n",
       "      <th>...</th>\n",
       "      <td>...</td>\n",
       "      <td>...</td>\n",
       "      <td>...</td>\n",
       "      <td>...</td>\n",
       "      <td>...</td>\n",
       "    </tr>\n",
       "    <tr>\n",
       "      <th>395</th>\n",
       "      <td>96</td>\n",
       "      <td>Brave</td>\n",
       "      <td>Sara Bareilles</td>\n",
       "      <td>2013</td>\n",
       "      <td>[Verse 1]\\nYou can be amazing\\nYou can turn a ...</td>\n",
       "    </tr>\n",
       "    <tr>\n",
       "      <th>396</th>\n",
       "      <td>97</td>\n",
       "      <td>Let Her Go</td>\n",
       "      <td>Passenger</td>\n",
       "      <td>2013</td>\n",
       "      <td>[Produced by Mike Rosenberg and Chris Vallejo]...</td>\n",
       "    </tr>\n",
       "    <tr>\n",
       "      <th>397</th>\n",
       "      <td>98</td>\n",
       "      <td>Runnin' Outta Moonlight</td>\n",
       "      <td>Randy Houser</td>\n",
       "      <td>2013</td>\n",
       "      <td>[Verse 1]\\nDon't you worry 'bout gettin' fixed...</td>\n",
       "    </tr>\n",
       "    <tr>\n",
       "      <th>398</th>\n",
       "      <td>99</td>\n",
       "      <td>I'm Different</td>\n",
       "      <td>2 Chainz</td>\n",
       "      <td>2013</td>\n",
       "      <td>[Intro]\\nYeah\\nYeah\\n2 Chainz\\nMustard on the ...</td>\n",
       "    </tr>\n",
       "    <tr>\n",
       "      <th>399</th>\n",
       "      <td>100</td>\n",
       "      <td>Still Into You</td>\n",
       "      <td>Paramore</td>\n",
       "      <td>2013</td>\n",
       "      <td>[Verse 1]\\nCan't count the years on one hand t...</td>\n",
       "    </tr>\n",
       "  </tbody>\n",
       "</table>\n",
       "<p>100 rows × 5 columns</p>\n",
       "</div>"
      ],
      "text/plain": [
       "     place                    title                   artist  year  \\\n",
       "300      1              Thrift Shop  Macklemore & Ryan Lewis  2013   \n",
       "301      2            Blurred Lines             Robin Thicke  2013   \n",
       "302      3              Radioactive          Imagine Dragons  2013   \n",
       "303      4             Harlem Shake                   Baauer  2013   \n",
       "304      5            Can't Hold Us  Macklemore & Ryan Lewis  2013   \n",
       "..     ...                      ...                      ...   ...   \n",
       "395     96                    Brave           Sara Bareilles  2013   \n",
       "396     97               Let Her Go                Passenger  2013   \n",
       "397     98  Runnin' Outta Moonlight             Randy Houser  2013   \n",
       "398     99            I'm Different                 2 Chainz  2013   \n",
       "399    100           Still Into You                 Paramore  2013   \n",
       "\n",
       "                                                lyrics  \n",
       "300  [Intro]\\nHey, Macklemore, can we go thrift sho...  \n",
       "301  [Intro: Pharrell Williams & Robin Thicke]\\nEve...  \n",
       "302                                               None  \n",
       "303  [Pre-Chorus]\\nCon los terroristas, -tas, -tas,...  \n",
       "304                                               None  \n",
       "..                                                 ...  \n",
       "395  [Verse 1]\\nYou can be amazing\\nYou can turn a ...  \n",
       "396  [Produced by Mike Rosenberg and Chris Vallejo]...  \n",
       "397  [Verse 1]\\nDon't you worry 'bout gettin' fixed...  \n",
       "398  [Intro]\\nYeah\\nYeah\\n2 Chainz\\nMustard on the ...  \n",
       "399  [Verse 1]\\nCan't count the years on one hand t...  \n",
       "\n",
       "[100 rows x 5 columns]"
      ]
     },
     "execution_count": 37,
     "metadata": {},
     "output_type": "execute_result"
    }
   ],
   "source": [
    "# df.loc[df.year == 2013, \"lyrics\"] = lyrics\n",
    "df.to_csv(\"../data/billboard_2010_2024.csv\", index=False)"
   ]
  },
  {
   "cell_type": "markdown",
   "metadata": {},
   "source": [
    "### Descriptions"
   ]
  },
  {
   "cell_type": "markdown",
   "metadata": {},
   "source": [
    "We suggest to limit the possible labels to modes of transport (according to [Wikipedia](https://en.wikipedia.org/wiki/Mode_of_transport)): **_human-powered_**, **_animal-powered_**, **_railways_**, **_roadways_**, **_water transport_**, **_air transport_**."
   ]
  },
  {
   "cell_type": "code",
   "execution_count": 45,
   "metadata": {},
   "outputs": [],
   "source": [
    "definitions_dict = {\n",
    "    \"mode of transport\": \n",
    "    \"A mode of transport is a method or way of travelling, or of transporting people or cargo.[1] The different modes of transport include air, water, and land transport, which includes rails or railways, road and off-road transport. Other modes of transport also exist, including pipelines, cable transport, and space transport. Human-powered transport and animal-powered transport are sometimes regarded as distinct modes, but they may lie in other categories such as land or water transport.\"\n",
    "    \"In general, transportation refers to the moving of people, animals, and other goods from one place to another, and means of transport refers to the transport facilities used to carry people or cargo according to the chosen mode. Examples of the means of transport include automobile, airplane, ship, truck, and train. Each mode of transport has a fundamentally different set of technological solutions. Each mode has its own infrastructure, vehicles, transport operators and operations.\",\n",
    "    \"human-powered\": \"Human powered transport, a form of sustainable transportation, is the transport of people and/or goods using human muscle-power, in the form of walking, running and swimming. Modern technology has allowed machines to enhance human power. Human-powered transport remains popular for reasons of cost-saving, leisure, physical exercise, and environmentalism; it is sometimes the only type available, especially in underdeveloped or inaccessible regions.\"\n",
    "    \"Although humans are able to walk without infrastructure, the transport can be enhanced through the use of roads, especially when using the human power with vehicles, such as bicycles and inline skates. Human-powered vehicles have also been developed for difficult environments, such as snow and water, by watercraft rowing and skiing; even the air can be entered with human-powered aircraft.\", \n",
    "    \"animal-powered\": \"Animal-powered transport is the use of working animals for the transport of people and/or goods. Humans may use some of the animals directly, use them as pack animals for carrying goods, or harness them, alone or in teams, to pull watercraft, sleds, or wheeled vehicles.\"\n",
    "    \"Riding animals are animals that people use as mounts in order to perform tasks such as traversing across long distances or over rugged terrain, hunting on horseback or with some other riding animal, patrolling around rural and/or wilderness areas, rounding up and/or herding livestock or even for recreational enjoyment. They mainly include equines such as horses, donkeys, and mules; bovines such as cattle, water buffalo, and yak. In some places, elephants, llamas and camels are also used. Dromedary camels are in arid areas of Australia, North Africa and the Middle East; the less common Bactrian camel inhabits central and East Asia; both are used as working animals. On occasion, reindeer, though usually driven, may be ridden. Certain wild animals have been tamed and used for riding, usually for novelty purposes, including the zebra and the ostrich. Some mythical creatures are believed to act as divine mounts, such as garuda in Hinduism (See vahana for divine mounts in Hinduism) and the winged horse Pegasus in Greek mythology.\", \n",
    "    \"railways\": \"Rail transport is a means of conveyance of passengers and goods by way of wheeled vehicles running on rail track, known as a railway or railroad. The rails are anchored perpendicular to railroad train consists of one or more connected vehicles that run on the rails. Propulsion is commonly provided by a locomotive, that hauls a series of unpowered cars, that can carry passengers or freight. The locomotive can be powered by steam, diesel or by electricity supplied by trackside systems. Alternatively, some or all the cars can be powered, known as a multiple unit. Also, a train can be powered by horses, cables, gravity, pneumatics and gas turbines. Railed vehicles move with much less friction than rubber tires on paved roads, making trains more energy efficient, though not as efficient as ships.\"\n",
    "    \"Intercity trains are long-haul services connecting cities;[12] modern high-speed rail is capable of speeds up to 430 km/h (270 mph), but this requires a specially built track. Regional and commuter trains feed cities from suburbs and surrounding areas, while intra-urban transport is performed by high-capacity tramways and rapid transits, often making up the backbone of a city's public transport. Freight trains traditionally used box cars, requiring manual loading and unloading of the cargo. Since the 1960s, container trains have become the dominant solution for general freight, while large quantities of bulk are transported by dedicated trains.\", \n",
    "    \"roadways\": \"A road is an identifiable route of travel, usually surfaced with gravel, asphalt or concrete, and supporting land passage by foot or by a number of vehicles.\"\n",
    "    \"The most common road vehicle in the developed world is the automobile, a wheeled passenger vehicle that carries its own motor. As of 2002, there were 591 million automobiles worldwide.[citation needed] Other users of roads include motorcycles, buses, trucks, bicycles and pedestrians, and special provisions are sometimes made for each of these. For example, bus lanes give priority for public transport, and cycle lanes provide special areas of road for bicycles to use.\"\n",
    "    \"Automobiles offer high flexibility, but are deemed with high energy and area use, and the main source of noise and air pollution in cities; buses allow for more efficient travel at the cost of reduced flexibility.[13] Road transport by truck is often the initial and final stage of freight transport.\", \n",
    "    \"water transport\": \"Water transport is the process of transport that a watercraft, such as a bart, ship or sailboat, makes over a body of water, such as a sea, ocean, lake, canal, or river. If a boat or other vessel can successfully pass through a waterway it is known as a navigable waterway. The need for buoyancy unites watercraft, and makes the hull a dominant aspect of its construction, maintenance and appearance. When a boat is floating on the water the hull of the boat is pushing aside water where the hull now is, this is known as displacement.\"\n",
    "    \"In the 1800s, the first steamboats were developed, using a steam engine to drive a paddle wheel or propeller to move the ship. The steam was produced using wood or coal. Now, most ships have an engine using a slightly refined type of petroleum called bunker fuel. Some ships, such as submarines, use nuclear power to produce the steam. Recreational or educational craft still use wind power, while some smaller craft use internal combustion engines to drive one or more propellers, or in the case of jet boats, an inboard water jet. In shallow draft areas, hovercraft are propelled by large pusher-prop fans.\"\n",
    "    \"Although slow, modern sea transport is a highly effective method of transporting large quantities of non-perishable goods. Commercial vessels, nearly 35,000 in number, carried 7.4 billion tons of cargo in 2007.[14] Transport by water is significantly less costly than air transport for transcontinental shipping;[15] short sea shipping and ferries remain viable in coastal areas.[16][17]\", \n",
    "    \"air transport\": \"A fixed-wing aircraft, typically airplane, is a heavier-than-air flying vehicle, in which the special geometry of the wings generates lift and then lifts the whole vehicle. Fixed-wing aircraft range from small trainers and recreational aircraft to large airliners and military cargo aircraft. For short distances or in places without runways, helicopters can be operable.[2] (Other types of aircraft, like autogyros and airships, are not a significant portion of air transport.)\"\n",
    "    \"Air transport is one of the fastest method of transport, Commercial jets reach speeds of up to 955 kilometres per hour (593 mph) and a considerably higher ground speed if there is a jet stream tailwind, while piston-powered general aviation aircraft may reach up to 555 kilometres per hour (345 mph) or more. This celerity comes with higher cost and energy use,[3] and aviation's impacts to the environment and particularly the global climate require consideration when comparing modes of transportation.[4] The Intergovernmental Panel on Climate Change (IPCC) estimates a commercial jet's flight to have some 2-4 times the effect on the climate than if the same CO2 emissions were made at ground level, because of different atmospheric chemistry and radiative forcing effects at the higher altitude.[5] U.S. airlines alone burned about 16.2 billion gallons of fuel during the twelve months between October 2013 and September 2014.[6] WHO estimates that globally as many as 500,000 people at a time are on planes.[3] The global trend has been for increasing numbers of people to travel by air, and individually to do so with increasing frequency and over longer distances, a dilemma that has the attention of climate scientists and other researchers,[7][8][9] along with the press.[10][11] The issue of impacts from frequent travel, particularly by air because of the long distances that are easily covered in one or a few days, is called hypermobility and has been a topic of research and governmental concern for many years.\" \n",
    "}"
   ]
  },
  {
   "cell_type": "code",
   "execution_count": 46,
   "metadata": {},
   "outputs": [],
   "source": [
    "import json\n",
    "\n",
    "with open(\"../data/definitions.json\", \"w\") as f:\n",
    "    json.dump(definitions_dict, f, indent=4)"
   ]
  },
  {
   "cell_type": "code",
   "execution_count": null,
   "metadata": {},
   "outputs": [],
   "source": []
  }
 ],
 "metadata": {
  "kernelspec": {
   "display_name": "mobility",
   "language": "python",
   "name": "python3"
  },
  "language_info": {
   "codemirror_mode": {
    "name": "ipython",
    "version": 3
   },
   "file_extension": ".py",
   "mimetype": "text/x-python",
   "name": "python",
   "nbconvert_exporter": "python",
   "pygments_lexer": "ipython3",
   "version": "3.10.15"
  }
 },
 "nbformat": 4,
 "nbformat_minor": 2
}
